{
  "cells": [
    {
      "cell_type": "markdown",
      "metadata": {
        "id": "view-in-github",
        "colab_type": "text"
      },
      "source": [
        "<a href=\"https://colab.research.google.com/github/alecoder1/PyTorch-Tutorial/blob/main/Image_recognition_using_PyTorch.ipynb\" target=\"_parent\"><img src=\"https://colab.research.google.com/assets/colab-badge.svg\" alt=\"Open In Colab\"/></a>"
      ]
    },
    {
      "cell_type": "code",
      "execution_count": 1,
      "metadata": {
        "id": "CD1FLBHkdV6P"
      },
      "outputs": [],
      "source": [
        "import torch\n",
        "import torch.nn as nn\n",
        "import torch.nn.functional as F\n",
        "from torch.utils.data import DataLoader\n",
        "from torchvision import datasets, transforms\n",
        "from torchvision.utils import make_grid\n",
        "\n",
        "import numpy as np\n",
        "import matplotlib.pyplot as plt\n",
        "\n",
        "# For evaluation metrics\n",
        "from sklearn.metrics import confusion_matrix   # OR use torchmetrics (GPU friendly)\n",
        "# import torchmetrics  # modern metrics library for PyTorch\n"
      ]
    },
    {
      "cell_type": "code",
      "execution_count": 2,
      "metadata": {
        "id": "PtlwAun_ebyR"
      },
      "outputs": [],
      "source": [
        "# Convert MNIST image files into tensors with shape [channels, height, width].\n",
        "# MNIST tensors are 3D per sample:[C, H, W]\n",
        "# DataLoader will add the batch dimension: [batch, channels, height, width].\n",
        "\n",
        "# Define transform: convert to tensor and normalize (MNIST mean/std)\n",
        "transform = transforms.Compose([\n",
        "    transforms.ToTensor(),\n",
        "    transforms.Normalize((0.1307,), (0.3081,)) # Normalizing the MNIST dataset using its mean=0.1307 and std=0.3081\n",
        "])\n"
      ]
    },
    {
      "cell_type": "code",
      "execution_count": 3,
      "metadata": {
        "id": "ocOv7Nsai3Sx"
      },
      "outputs": [],
      "source": [
        "# Train dataset (60,000 examples)\n",
        "train_data = datasets.MNIST(\n",
        "    root=\"data\",          # relative path, safer than '/cnn_data'\n",
        "    train=True,\n",
        "    download=True,\n",
        "    transform=transform\n",
        ")"
      ]
    },
    {
      "cell_type": "code",
      "execution_count": 4,
      "metadata": {
        "colab": {
          "base_uri": "https://localhost:8080/"
        },
        "id": "VUcd4tfrkUBx",
        "outputId": "100d6e91-18ad-43ac-b37c-852fabbda73b"
      },
      "outputs": [
        {
          "output_type": "execute_result",
          "data": {
            "text/plain": [
              "Dataset MNIST\n",
              "    Number of datapoints: 60000\n",
              "    Root location: data\n",
              "    Split: Train\n",
              "    StandardTransform\n",
              "Transform: Compose(\n",
              "               ToTensor()\n",
              "               Normalize(mean=(0.1307,), std=(0.3081,))\n",
              "           )"
            ]
          },
          "metadata": {},
          "execution_count": 4
        }
      ],
      "source": [
        "# Confirming the dataset size\n",
        "train_data  # should be 60000"
      ]
    },
    {
      "cell_type": "code",
      "execution_count": 5,
      "metadata": {
        "id": "exOM7q9JkgqO"
      },
      "outputs": [],
      "source": [
        "# Test dataset (10,000 examples)\n",
        "test_data = datasets.MNIST(\n",
        "    root=\"data\",          # safer relative path\n",
        "    train=False,\n",
        "    download=True,\n",
        "    transform=transform\n",
        ")"
      ]
    },
    {
      "cell_type": "code",
      "execution_count": 6,
      "metadata": {
        "colab": {
          "base_uri": "https://localhost:8080/"
        },
        "id": "X8U7pqeSk5iJ",
        "outputId": "1f697335-ab3d-480c-ebcd-2423feb6737e"
      },
      "outputs": [
        {
          "output_type": "execute_result",
          "data": {
            "text/plain": [
              "Dataset MNIST\n",
              "    Number of datapoints: 10000\n",
              "    Root location: data\n",
              "    Split: Test\n",
              "    StandardTransform\n",
              "Transform: Compose(\n",
              "               ToTensor()\n",
              "               Normalize(mean=(0.1307,), std=(0.3081,))\n",
              "           )"
            ]
          },
          "metadata": {},
          "execution_count": 6
        }
      ],
      "source": [
        "# Confirming the dataset size\n",
        "test_data # should be 60000"
      ]
    },
    {
      "cell_type": "markdown",
      "metadata": {
        "id": "fATZQKp9oh8r"
      },
      "source": [
        "## DataLoader() Function\n",
        "- The DataLoader in PyTorch is a wrapper around your dataset (train_data or test_data) that handles:\n",
        "    1. Batching:\n",
        "          - Instead of giving one image at a time, it groups data into batches.\n",
        "          - batch_size=128 → you get a tensor of shape [128, 1, 28, 28].\n",
        "    2. Shuffling:\n",
        "        - Randomizes the order of data each epoch (shuffle=True).\n",
        "        - Prevents the model from memorizing the sequence.\n",
        "    3. Parallel Data Loading:\n",
        "        - Uses multiple CPU workers (num_workers) to load and preprocess data in parallel.\n",
        "        - Speeds up training a lot when your dataset is large.\n",
        "    4. Automatic Tensor Collation:\n",
        "        - Takes individual samples from the dataset and stacks them into batches automatically.\n",
        "        - For example: 10 single [1, 28, 28] images → [10, 1, 28, 28].\n",
        "    5. Data Streaming:\n",
        "        - Feeds data batch by batch during training.\n",
        "        - You don’t need to load the entire dataset into memory."
      ]
    },
    {
      "cell_type": "code",
      "execution_count": 7,
      "metadata": {
        "id": "3zCg4qSyldgr"
      },
      "outputs": [],
      "source": [
        "# Train and test loaders with modern best practices\n",
        "# Each epoch → DataLoader will generate batches from train_data (60,000 images).\n",
        "# With batch_size=128 → you get ~469 mini-batches per epoch.\n",
        "# Model trains much faster than looping through all 60,000 images one by one\n",
        "train_loader = DataLoader(\n",
        "    train_data,\n",
        "    batch_size=128,          # bigger batch size for faster training\n",
        "    shuffle=True,\n",
        "    num_workers=2,           # parallel workers\n",
        "    pin_memory=True,         # speedup for GPU\n",
        "    persistent_workers=True  # workers reused across epochs\n",
        ")\n",
        "\n",
        "test_loader = DataLoader(\n",
        "    test_data,\n",
        "    batch_size=256,\n",
        "    shuffle=False,           # no shuffle for test\n",
        "    num_workers=2,\n",
        "    pin_memory=True,\n",
        "    persistent_workers=True\n",
        ")"
      ]
    },
    {
      "cell_type": "code",
      "execution_count": 8,
      "metadata": {
        "id": "_FyBnQISxGDr"
      },
      "outputs": [],
      "source": [
        "# Define our CNN Model\n",
        "# Describe convolutional layer and what its doing (2 convolutional layers)\n",
        "conv1 = nn.Conv2d(1, 6, 3, 1)\n",
        "conv2 = nn.Conv2d(6, 16, 3, 1)\n"
      ]
    },
    {
      "cell_type": "markdown",
      "metadata": {
        "id": "g4QO6YuBxbRL"
      },
      "source": [
        "#### Explanation:\n",
        "1.  nn.Conv2d(in_channels, out_channels, kernel_size, stride)\n",
        "    - Creates a convolutional layer.\n",
        "2. conv1 = nn.Conv2d(1, 6, 3, 1)\n",
        "    - Input:  1 channel (MNIST grayscale image - [1, 28, 28])\n",
        "    - Output: 6 feature maps\n",
        "    - Kernel size: 3x3 filters\n",
        "    - Stride: 1 move 1 pixel at a time.\n",
        "    - So this layer learns 6 filters to extract edges, curves, or simple patterns from the input.\n",
        "    - Output shape: ([batch, 6, 26, 26] because 28 -3 + 1=26).\n",
        "3. conv2 = nn.Conv2d(6, 16, 3, 1)\n",
        "    - Input: 6 channels (output from conv1)\n",
        "    - Output: 16 feature maps.\n",
        "    - Kernel size: 3x3.\n",
        "    -  stride=1\n",
        "    - This layer learns 16 filters that combine low-level features (edges) into higher level features (like digit strokes).\n",
        "    - Output shape: ([batch, 16, 24, 24] because 26 - 3 +1=24"
      ]
    },
    {
      "cell_type": "code",
      "execution_count": 9,
      "metadata": {
        "colab": {
          "base_uri": "https://localhost:8080/"
        },
        "id": "-gqbNW-amiX9",
        "outputId": "f44c6400-5675-4801-84de-cbb22e4f083e"
      },
      "outputs": [
        {
          "output_type": "stream",
          "name": "stdout",
          "text": [
            "torch.Size([1, 28, 28])\n",
            "5\n"
          ]
        }
      ],
      "source": [
        "## Grab 1 MNIST record/ image\n",
        "# By directly indexing the dataset\n",
        "X_train, y_train = train_data[0]\n",
        "\n",
        "print(X_train.shape) # torch.Size([1, 28, 28])\n",
        "print(y_train)       # # label (e.g., 5)\n"
      ]
    },
    {
      "cell_type": "markdown",
      "metadata": {
        "id": "lCLey8wFuX9T"
      },
      "source": [
        "#### Explanation\n",
        "1. X_train:\n",
        "    - From the dataset, it has shape [1, 28, 28]:\n",
        "        - 1 → channel (grayscale),\n",
        "        - 28, 28 → height and width.\n",
        "2. Why reshape?\n",
        "    - PyTorch convolution layers expect input with 4 dimensions.\n",
        "    [batch_size, channels, height, width]\n",
        "    - Right now, X_train is missing the batch dimension.\n",
        "3. .view(1, 1, 28, 28)\n",
        "    - Adds a batch dimension of size 1\n",
        "    - Resulting shape: torch.Size([1, 1, 28, 28])\n",
        "    - Now it looks like a batch of grayscale image."
      ]
    },
    {
      "cell_type": "code",
      "execution_count": 10,
      "metadata": {
        "colab": {
          "base_uri": "https://localhost:8080/"
        },
        "id": "IsmtMIqCtbvO",
        "outputId": "b8159cb1-0276-4422-85bf-6861c21b773b"
      },
      "outputs": [
        {
          "output_type": "execute_result",
          "data": {
            "text/plain": [
              "torch.Size([1, 1, 28, 28])"
            ]
          },
          "metadata": {},
          "execution_count": 10
        }
      ],
      "source": [
        "# Reshape the MNIST image so it can be fed into the convolutional layers.\n",
        "x = X_train.view(1,1,28,28)\n",
        "x.shape"
      ]
    },
    {
      "cell_type": "markdown",
      "metadata": {
        "id": "lSBUFteMwMC7"
      },
      "source": [
        "#### Summary:\n",
        "- Before: X_train.shape = [1, 28, 28]\n",
        "- After: x.shape = [1, 1, 28, 28]\n",
        "- This is now ready to be passed into conv1(x) or a full CNN model."
      ]
    },
    {
      "cell_type": "markdown",
      "metadata": {
        "id": "2DuU1sWT0xS6"
      },
      "source": [
        "##### Using them before building the model class"
      ]
    },
    {
      "cell_type": "code",
      "execution_count": 11,
      "metadata": {
        "colab": {
          "base_uri": "https://localhost:8080/"
        },
        "id": "RzB7yvaLwHQO",
        "outputId": "95d71bac-95a1-4341-f626-4cbfd7bd3b28"
      },
      "outputs": [
        {
          "output_type": "execute_result",
          "data": {
            "text/plain": [
              "torch.Size([1, 1, 28, 28])"
            ]
          },
          "metadata": {},
          "execution_count": 11
        }
      ],
      "source": [
        "# Take one batch from trainloader\n",
        "x.shape"
      ]
    },
    {
      "cell_type": "markdown",
      "metadata": {
        "id": "STmczBno4GA8"
      },
      "source": [
        "### First Convolution\n",
        "\n",
        "1. conv1(x):\n",
        "    - Applies the first convolutional layer to the input image.\n",
        "    - Recall: conv1 = nn.Conv2d(1, 6, 3, 1)\n",
        "      - Input shape: [1, 1, 28, 28]\n",
        "      - Output shape: [1, 6, 26, 26]\n",
        "    - Now you have 6 feature maps, each 26x26 pixels."
      ]
    },
    {
      "cell_type": "code",
      "execution_count": 12,
      "metadata": {
        "colab": {
          "base_uri": "https://localhost:8080/"
        },
        "id": "lDz1Xf4G3SeW",
        "outputId": "adbb0ec8-fc57-4ab6-f427-e9b8eb4b4df6"
      },
      "outputs": [
        {
          "output_type": "execute_result",
          "data": {
            "text/plain": [
              "torch.Size([1, 6, 26, 26])"
            ]
          },
          "metadata": {},
          "execution_count": 12
        }
      ],
      "source": [
        "x = conv1(x)  # Applies the first convolutional layer to the input image\n",
        "x.shape"
      ]
    },
    {
      "cell_type": "markdown",
      "metadata": {
        "id": "eUElLyg049nf"
      },
      "source": [
        "### Applying activation function\n",
        "1. F.relu(...)\n",
        "  - Applies the ReLU activation function(Rectified Linear Unit):\n",
        "    - ReLU(x) = max(0, x)\n",
        "  - Why?\n",
        "    - Convolutions produce both positive and negative values.\n",
        "    - ReLU sets all negatives to 0; Keeps only strong positive activations.\n",
        "    - This introduces non-linearity, allowing CNN to learn more complex patterns.\n",
        "2. Result stored in x has shape:[1, 6, 26, 26]\n",
        "  - Each of the 6 feature maps highlights different simple patterns (like vertical lines, horizontal strokes, corners)\n"
      ]
    },
    {
      "cell_type": "code",
      "execution_count": 13,
      "metadata": {
        "colab": {
          "base_uri": "https://localhost:8080/"
        },
        "id": "-kNSrmKw1L4I",
        "outputId": "c3965778-447b-4b3a-e17f-2f598d10c294"
      },
      "outputs": [
        {
          "output_type": "execute_result",
          "data": {
            "text/plain": [
              "torch.Size([1, 6, 26, 26])"
            ]
          },
          "metadata": {},
          "execution_count": 13
        }
      ],
      "source": [
        "# And applying an activation function\n",
        "x = F.relu(x)      # Rectified Linear Unit for our activation function\n",
        "x.shape"
      ]
    },
    {
      "cell_type": "markdown",
      "metadata": {
        "id": "paReWY5t7Ajj"
      },
      "source": [
        "### Max Pooling:\n",
        "1. Max Pooling:\n",
        "  - It's a downsampling operation.\n",
        "  - max_pool2d(x, kernel_size=2, stride=2) means:\n",
        "    - Look at each non-overlapping 2x2 block in the feature map.\n",
        "    - Keep only the maximum value from that block.\n",
        "  - So it reduces the height and width by half, while keeping the number of channels the same.\n",
        "2. Before pooling:\n",
        "  - From the previous step: x.shape  = [1, 6, 26, 26]\n",
        "    - Batch = 1\n",
        "    - Channels = 6\n",
        "    - Height = 26\n",
        "    - Width = 26\n",
        "3. After pooling:\n",
        "  - Each 26x26 map becomes 13x13(because 26 / 2 = 13)\n",
        "  - Shape becomes: [1, 6, 13, 13]\n",
        "4. Why pooling helps?\n",
        "  - Reduces computation (fewer pixels to process)\n",
        "  - Adds translation invariance: The model focuses on whether a feature exists not exactly where.\n",
        "  - Prevents overfitting by simplifying feature maps.\n"
      ]
    },
    {
      "cell_type": "code",
      "execution_count": 14,
      "metadata": {
        "colab": {
          "base_uri": "https://localhost:8080/"
        },
        "id": "JClrPfBD6u9w",
        "outputId": "4a60c55e-92b1-4d06-b021-0194ffd4d436"
      },
      "outputs": [
        {
          "output_type": "execute_result",
          "data": {
            "text/plain": [
              "torch.Size([1, 6, 13, 13])"
            ]
          },
          "metadata": {},
          "execution_count": 14
        }
      ],
      "source": [
        "# pass through the pooling layer\n",
        "x = F.max_pool2d(x, 2, 2)  # kernel of 2 and stride of 2\n",
        "x.shape"
      ]
    },
    {
      "cell_type": "code",
      "execution_count": 15,
      "metadata": {
        "id": "qIJjfiuq64UF"
      },
      "outputs": [],
      "source": [
        "# Do our second convolutional Layer\n",
        "x = F.relu(conv2(x))"
      ]
    },
    {
      "cell_type": "code",
      "execution_count": 16,
      "metadata": {
        "colab": {
          "base_uri": "https://localhost:8080/"
        },
        "id": "ryNDqUcO9n5x",
        "outputId": "eec0b8f0-77cc-45b1-f047-3d56cb92b4a1"
      },
      "outputs": [
        {
          "output_type": "execute_result",
          "data": {
            "text/plain": [
              "torch.Size([1, 16, 11, 11])"
            ]
          },
          "metadata": {},
          "execution_count": 16
        }
      ],
      "source": [
        "x.shape"
      ]
    },
    {
      "cell_type": "code",
      "execution_count": 17,
      "metadata": {
        "colab": {
          "base_uri": "https://localhost:8080/"
        },
        "id": "tSwrQ6mI9pNj",
        "outputId": "ab27fab5-4d51-443c-e378-60704b4ad656"
      },
      "outputs": [
        {
          "output_type": "execute_result",
          "data": {
            "text/plain": [
              "torch.Size([1, 16, 5, 5])"
            ]
          },
          "metadata": {},
          "execution_count": 17
        }
      ],
      "source": [
        "# second pooling layer\n",
        "x = F.max_pool2d(x, 2,2)\n",
        "x.shape"
      ]
    },
    {
      "cell_type": "markdown",
      "metadata": {
        "id": "NAtkdFU-_89I"
      },
      "source": [
        "### Flattening Step\n",
        "- The CNN feature maps get converted into a vector for the fully connected (dense) layers.\n",
        "1. Current shape: x.shape = [1, 16, 5, 5]\n",
        "2. Flattening:\n",
        "    - We want to squash the 3D [16, 5, 5] feature mapinto a 1D per image.\n",
        "    - 16 * 5* 5 = 400\n",
        "    - So each image becomes a 400-length vector\n",
        "3. .view(-1, 16*5*5):\n",
        "    - -1 means \"infer the batch size automatically\".\n",
        "    - Shape becomes: [1, 400]\n",
        "4. Why flatten?\n",
        "    - Convolution layers capture spatial features.\n",
        "    - Dense layers use those features to classify the image into digit classes (0-9)\n"
      ]
    },
    {
      "cell_type": "code",
      "execution_count": 18,
      "metadata": {
        "colab": {
          "base_uri": "https://localhost:8080/"
        },
        "id": "xL6dnGRr98bl",
        "outputId": "a8eea4ba-9763-488d-8feb-dcf83f327fed"
      },
      "outputs": [
        {
          "output_type": "execute_result",
          "data": {
            "text/plain": [
              "torch.Size([1, 400])"
            ]
          },
          "metadata": {},
          "execution_count": 18
        }
      ],
      "source": [
        "x = x.view(-1, 16 * 5 * 5)\n",
        "x.shape"
      ]
    },
    {
      "cell_type": "markdown",
      "metadata": {
        "id": "k4LK3cSSBwx7"
      },
      "source": [
        "### Fully connected layers\n",
        "- Feed this into a dense layer"
      ]
    },
    {
      "cell_type": "code",
      "execution_count": 19,
      "metadata": {
        "colab": {
          "base_uri": "https://localhost:8080/"
        },
        "id": "28GvAO7UAYjS",
        "outputId": "e9d7e7ea-58f1-4cec-a16f-8b2a94979192"
      },
      "outputs": [
        {
          "output_type": "execute_result",
          "data": {
            "text/plain": [
              "torch.Size([1, 120])"
            ]
          },
          "metadata": {},
          "execution_count": 19
        }
      ],
      "source": [
        "fc1 = nn.Linear(16 * 5 * 5, 120)  # first fully connected layer\n",
        "x = F.relu(fc1(x))                # apply ReLU\n",
        "x.shape"
      ]
    },
    {
      "cell_type": "markdown",
      "metadata": {
        "id": "Vdtur61SC0j8"
      },
      "source": [
        "# Second fully connected layer"
      ]
    },
    {
      "cell_type": "code",
      "execution_count": 20,
      "metadata": {
        "colab": {
          "base_uri": "https://localhost:8080/"
        },
        "id": "6Wx3ZMjxCkVE",
        "outputId": "2ba9b8a0-924d-4b78-c6f2-cc6bbd251b36"
      },
      "outputs": [
        {
          "output_type": "execute_result",
          "data": {
            "text/plain": [
              "torch.Size([1, 84])"
            ]
          },
          "metadata": {},
          "execution_count": 20
        }
      ],
      "source": [
        "fc2 = nn.Linear(120, 84)\n",
        "x = F.relu(fc2(x))\n",
        "x.shape"
      ]
    },
    {
      "cell_type": "markdown",
      "metadata": {
        "id": "2Q_hzUoEDYl0"
      },
      "source": [
        "### Explanation\n",
        "1. Input size = 120 (from fc1)\n",
        "2. Output size = 84 neurons\n",
        "    - Again this is a design choice -> fewer neurons -> more compressions\n",
        "    - Helps the model focus on key features\n",
        "3. Activation (ReLU)\n",
        "    - keeps network expressive.\n",
        "4. Shape transformation\n",
        "    - input shape:[1, 120]\n",
        "    - Output shape:[1, 84]\n",
        "\n",
        "### Output classifier"
      ]
    },
    {
      "cell_type": "code",
      "execution_count": 21,
      "metadata": {
        "colab": {
          "base_uri": "https://localhost:8080/"
        },
        "id": "ZD3tM1r1DVcz",
        "outputId": "034a4550-3873-457e-e0d9-b7b1c506a7dc"
      },
      "outputs": [
        {
          "output_type": "execute_result",
          "data": {
            "text/plain": [
              "torch.Size([1, 10])"
            ]
          },
          "metadata": {},
          "execution_count": 21
        }
      ],
      "source": [
        "fc3 = nn.Linear(84, 10)\n",
        "x = fc3(x)\n",
        "x.shape"
      ]
    },
    {
      "cell_type": "markdown",
      "metadata": {
        "id": "KZrS8Yk5EwAW"
      },
      "source": [
        "#### Explanation\n",
        "1. input size = 84 (from fc2)\n",
        "2. Output size = 10 neurons -> one for each digit(0-9)\n",
        "3. No ReLU at the end:\n",
        "    - The raw outputs (called logits) are passed into a loss function (e.g.., nn.CrossEntropyLoss) which internally applies softmax\n",
        "4. Shape transformation:\n",
        "    - Input shape: [1, 84]\n",
        "    - Output shape: [1, 10]"
      ]
    },
    {
      "cell_type": "code",
      "execution_count": 22,
      "metadata": {
        "id": "-lcFVtf6Ek6A"
      },
      "outputs": [],
      "source": [
        "# Model Class\n",
        "class ConvolutionalNetwork(nn.Module):\n",
        "  def __init__(self, *args, **kwargs) -> None:\n",
        "    super().__init__(*args, **kwargs)\n",
        "    self.conv1 = nn.Conv2d(1, 6, 3, 1)\n",
        "    self.conv2 = nn.Conv2d(6, 16, 3, 1)\n",
        "\n",
        "    # Fully connected layers\n",
        "    self.fc1 = nn.Linear(16 * 5 * 5, 120)\n",
        "    self.fc2 = nn.Linear(120, 84)\n",
        "    self.fc3 = nn.Linear(84, 10)\n",
        "\n",
        "  def forward(self, X):\n",
        "    X = F.relu(self.conv1(X))\n",
        "    X = F.max_pool2d(X, 2, 2)\n",
        "\n",
        "    X = F.relu(self.conv2(X))\n",
        "    X = F.max_pool2d(X, 2, 2)\n",
        "\n",
        "    X = X.view(X.size(0), -1)  # flatten dynamizally\n",
        "\n",
        "    X = F.relu(self.fc1(X))\n",
        "    X = F.relu(self.fc2(X))\n",
        "    X = self.fc3(X)             # raw digits\n",
        "\n",
        "    return X\n",
        "\n"
      ]
    },
    {
      "cell_type": "markdown",
      "metadata": {
        "id": "TgNpnMgAKhWp"
      },
      "source": [
        "#### Checking the shape of the data before it goes into the model\n",
        "1. for X, y in train_loader:\n",
        "    "
      ]
    },
    {
      "cell_type": "code",
      "execution_count": 23,
      "metadata": {
        "colab": {
          "base_uri": "https://localhost:8080/"
        },
        "id": "p7yBX-uZJ7k3",
        "outputId": "fe0b6f60-b9ee-49cb-84d9-a48bd2557018"
      },
      "outputs": [
        {
          "output_type": "stream",
          "name": "stderr",
          "text": [
            "/usr/local/lib/python3.12/dist-packages/torch/utils/data/dataloader.py:666: UserWarning: 'pin_memory' argument is set as true but no accelerator is found, then device pinned memory won't be used.\n",
            "  warnings.warn(warn_msg)\n"
          ]
        },
        {
          "output_type": "stream",
          "name": "stdout",
          "text": [
            "X.shape: torch.Size([128, 1, 28, 28])\n",
            "y_shape: torch.Size([128])\n"
          ]
        }
      ],
      "source": [
        "\n",
        "# x = batch of images\n",
        "# y = batch of labels\n",
        "# torch.size([128, 1, 28, 28]): batch_size=128, 1: channel(grayscale), 28X28 : image_size\n",
        "# labels are 1D tensor of size batch_size\n",
        "\n",
        "for X, y in train_loader: # iterates through yor training data batch by batch\n",
        "  print(\"X.shape:\", X.shape)\n",
        "  print(\"y_shape:\", y.shape)\n",
        "  break"
      ]
    },
    {
      "cell_type": "code",
      "execution_count": 24,
      "metadata": {
        "colab": {
          "base_uri": "https://localhost:8080/",
          "height": 712
        },
        "id": "MStsnylCBJlb",
        "outputId": "16f8d980-a896-4930-84e6-10dd7b92ae79"
      },
      "outputs": [
        {
          "output_type": "display_data",
          "data": {
            "text/plain": [
              "<Figure size 800x800 with 1 Axes>"
            ],
            "image/png": "[encoded data removed]"
          },
          "metadata": {}
        },
        {
          "output_type": "stream",
          "name": "stdout",
          "text": [
            "Labels: [7, 6, 9, 8, 9, 0, 3, 4, 7, 7, 1, 4, 4, 1, 8, 4, 4, 1, 4, 8, 1, 2, 7, 6, 9, 0, 3, 1, 9, 2, 5, 4, 5, 0, 3, 3, 3, 4, 8, 0, 9, 6, 5, 9, 3, 4, 0, 3, 8, 9, 6, 9, 8, 0, 3, 0, 0, 8, 4, 6, 7, 7, 5, 2, 2, 0, 2, 5, 1, 3, 2, 9, 2, 9, 6, 7, 3, 1, 4, 1, 4, 9, 2, 2, 3, 0, 1, 8, 5, 9, 0, 1, 3, 9, 4, 1, 9, 8, 7, 4, 5, 1, 6, 1, 2, 0, 9, 4, 0, 3, 3, 1, 6, 0, 4, 3, 5, 9, 6, 5, 6, 5, 8, 1, 5, 0, 6, 2]\n"
          ]
        }
      ],
      "source": [
        "import matplotlib.pyplot as plt\n",
        "from torchvision.utils import make_grid\n",
        "\n",
        "# Grab one batch\n",
        "X, y = next(iter(train_loader)) # grabs the first batch\n",
        "\n",
        "# Make a grid of images (normalize for display)\n",
        "# normalize=True: ensures pixel values are scaled nicely for visualization\n",
        "grid = make_grid(X, nrow=5, normalize=True) # arranges the images in a nice grid(5 per row)\n",
        "\n",
        "# Convert from tensor to numpy for plotting\n",
        "# plt.imshow(..) displays the grid of images\n",
        "plt.figure(figsize=(8,8))\n",
        "plt.imshow(grid.permute(1, 2, 0))  # change from [C,H,W] to [H,W,C]\n",
        "plt.title(\"Sample MNIST Digits\")\n",
        "plt.axis(\"off\")\n",
        "plt.show()\n",
        "\n",
        "print(\"Labels:\", y.tolist()) # shows the labels for the batch\n"
      ]
    },
    {
      "cell_type": "code",
      "execution_count": 25,
      "metadata": {
        "colab": {
          "base_uri": "https://localhost:8080/"
        },
        "id": "cYSLARflBtT3",
        "outputId": "80ddba1c-28e9-438b-d483-3d77a9edbb6e"
      },
      "outputs": [
        {
          "output_type": "stream",
          "name": "stdout",
          "text": [
            "1\n"
          ]
        }
      ],
      "source": [
        "C = X.shape[1]\n",
        "print(C)"
      ]
    },
    {
      "cell_type": "markdown",
      "metadata": {
        "id": "jvexrWmUKGsJ"
      },
      "source": [
        "#### Instantiating our model\n",
        "- We have defined the class ConvolutionalNetwork\n",
        "- We make an instance of the class ConvolutionalNetworks.\n",
        "- That's like writing the blueprint of a house and building the house."
      ]
    },
    {
      "cell_type": "code",
      "execution_count": 26,
      "metadata": {
        "colab": {
          "base_uri": "https://localhost:8080/"
        },
        "id": "gc6cIOfmJ4P4",
        "outputId": "3bed7fb8-742a-4fac-b532-df9bd720f74d"
      },
      "outputs": [
        {
          "output_type": "execute_result",
          "data": {
            "text/plain": [
              "ConvolutionalNetwork(\n",
              "  (conv1): Conv2d(1, 6, kernel_size=(3, 3), stride=(1, 1))\n",
              "  (conv2): Conv2d(6, 16, kernel_size=(3, 3), stride=(1, 1))\n",
              "  (fc1): Linear(in_features=400, out_features=120, bias=True)\n",
              "  (fc2): Linear(in_features=120, out_features=84, bias=True)\n",
              "  (fc3): Linear(in_features=84, out_features=10, bias=True)\n",
              ")"
            ]
          },
          "metadata": {},
          "execution_count": 26
        }
      ],
      "source": [
        "# instanstiate our class\n",
        "torch.manual_seed(42) # Sets the random seed for PyTorch; ensures that weight initialization is reproducible, is you run you will get the same initial random weights\n",
        "we_model = ConvolutionalNetwork()\n",
        "we_model # prints the architecture summary.\n",
        "\n",
        "# NOW MODEl HAS:\n",
        "# 2 convolutional layers (conv1, conv2)\n",
        "# 3 fully connected layers(fc1, fc2, fc3)"
      ]
    },
    {
      "cell_type": "code",
      "execution_count": 27,
      "metadata": {
        "colab": {
          "base_uri": "https://localhost:8080/"
        },
        "id": "DYIiSPtGBxh3",
        "outputId": "f407044f-db3e-4a05-b5ca-baeea93c2e74"
      },
      "outputs": [
        {
          "output_type": "stream",
          "name": "stdout",
          "text": [
            "Data channels: 1\n",
            "Model conv1.input_channels: 1\n"
          ]
        }
      ],
      "source": [
        "# Confirm model accepts the number of channels\n",
        "C = X.shape[1]\n",
        "print(\"Data channels:\", C)\n",
        "print(\"Model conv1.input_channels:\", we_model.conv1.in_channels)\n"
      ]
    },
    {
      "cell_type": "markdown",
      "metadata": {
        "id": "IPR5dLyIQOQ2"
      },
      "source": [
        "### Final Sanity check before training: Forward pass\n",
        "1.  Make sure the the model's forward pass works and produces the expected output shape.\n",
        "\n",
        "2. out = model(X)\n",
        "  - Sends that batch of images through the entire CNN.\n",
        "    - Conv1 → ReLU → Pool\n",
        "    - Conv2 → ReLU → Pool\n",
        "    - Flatten → FC1 → ReLU → FC2 → ReLU → FC3\n",
        "    - Produces raw class scores (logits).\n",
        "3. Expected Output shape\n",
        "    - out.shape = [128, 10]\n",
        "      - 128 rows = batch_size (one output per image)\n",
        "      - 10 columns = logits for each digit class (0-9).\n",
        "\n",
        "### 4. Why this chech matters;\n",
        "- Confirms your data tensor shape matches what the model expects.\n",
        "- Confirms the final layer outputs the right number of classes.\n",
        "- Prevents nasty runtime errors later when computing the loss.\n"
      ]
    },
    {
      "cell_type": "code",
      "execution_count": 28,
      "metadata": {
        "colab": {
          "base_uri": "https://localhost:8080/"
        },
        "id": "N18ENjCMHxdo",
        "outputId": "ab7d9335-1a23-4a6b-92ae-b818464f0189"
      },
      "outputs": [
        {
          "output_type": "stream",
          "name": "stdout",
          "text": [
            "Input shape: torch.Size([128, 1, 28, 28])\n",
            "Output shape: torch.Size([128, 10])\n"
          ]
        }
      ],
      "source": [
        "# Testing the forward pass\n",
        "# to confirm the output shape\n",
        "X, y = next(iter(train_loader)) # get one batch from the training loader.\n",
        "                                # X.shape = [128, 1, 28, 28]; y.shape = [10]\n",
        "out = we_model(X)                # forward pass\n",
        "print(\"Input shape:\", X.shape)\n",
        "print(\"Output shape:\", out.shape)"
      ]
    },
    {
      "cell_type": "markdown",
      "metadata": {
        "id": "mORzM-oiUzxB"
      },
      "source": [
        "#### Defining the Loss Function()\n",
        "1. For classification:\n",
        "    - criterion = nn.CrossEntropyLoss()\n",
        "      - This is the standard loss for multi-class classification\n",
        "      - Takes raw digits from your model (out) and compares them against interger labels(y).\n",
        "      - Iternally;\n",
        "          - CrossEntropyLoss = LogSoftmax + NegativeLogLikelihoodLoss\n",
        "      - That is why we don't need to apply F.log_softmax in the model the loss handles it.\n",
        "2. optimizer = torch.optim.Adam(we_model.parameters(), lr=0.001, weight_decay=1e-4)\n",
        "    - Optimizer = Adam (adaptive learning rate per parameter)\n",
        "    - we_model.parameters() tells th optimizer which weights to update.\n",
        "    - lr=0.001: is the default recommended learning rate for Adam.\n",
        "    - Smaller learning rate = more stable but slower training.\n",
        "    - Larger rate = faster but riskier.\n",
        "    - Add weight_decay for regularization (prevents overfitting).\n",
        "    - Adding a learning rate scheduler for smoother convergence.\n",
        "      \n"
      ]
    },
    {
      "cell_type": "code",
      "execution_count": 29,
      "metadata": {
        "id": "vFRyXEAOOTWG"
      },
      "outputs": [],
      "source": [
        "# Loss Function\n",
        "criterion = nn.CrossEntropyLoss()\n",
        "\n",
        "# Optimizer\n",
        "optimizer = torch.optim.Adam(we_model.parameters(), lr=0.001, weight_decay=1e-4)\n",
        "\n",
        "# Learning rate scheduler (Optional)\n",
        "scheduler = torch.optim.lr_scheduler.StepLR(optimizer, step_size=10, gamma=0.1)"
      ]
    },
    {
      "cell_type": "markdown",
      "metadata": {
        "id": "9ZZVCsMBbfWH"
      },
      "source": [
        "#### Modern PyTorch Training Loop\n"
      ]
    },
    {
      "cell_type": "code",
      "execution_count": 30,
      "metadata": {
        "colab": {
          "base_uri": "https://localhost:8080/"
        },
        "id": "nEIoFMR5O5i8",
        "outputId": "55d8086a-0f6d-4b60-9e7e-dcba5e118d08"
      },
      "outputs": [
        {
          "output_type": "stream",
          "name": "stdout",
          "text": [
            "Epoch: 1/5 | Batch: 100/469 | Train Loss: 0.8367\n",
            "Epoch: 1/5 | Batch: 200/469 | Train Loss: 0.2570\n",
            "Epoch: 1/5 | Batch: 300/469 | Train Loss: 0.1714\n",
            "Epoch: 1/5 | Batch: 400/469 | Train Loss: 0.1401\n",
            "Epoch: 1/5 | Test Loss: 0.0919 | Test Acc: 0.9709\n",
            "Epoch: 2/5 | Batch: 100/469 | Train Loss: 0.1056\n",
            "Epoch: 2/5 | Batch: 200/469 | Train Loss: 0.0973\n",
            "Epoch: 2/5 | Batch: 300/469 | Train Loss: 0.0932\n",
            "Epoch: 2/5 | Batch: 400/469 | Train Loss: 0.0816\n",
            "Epoch: 2/5 | Test Loss: 0.0586 | Test Acc: 0.9798\n",
            "Epoch: 3/5 | Batch: 100/469 | Train Loss: 0.0670\n",
            "Epoch: 3/5 | Batch: 200/469 | Train Loss: 0.0658\n",
            "Epoch: 3/5 | Batch: 300/469 | Train Loss: 0.0681\n",
            "Epoch: 3/5 | Batch: 400/469 | Train Loss: 0.0654\n",
            "Epoch: 3/5 | Test Loss: 0.0499 | Test Acc: 0.9835\n",
            "Epoch: 4/5 | Batch: 100/469 | Train Loss: 0.0472\n",
            "Epoch: 4/5 | Batch: 200/469 | Train Loss: 0.0530\n",
            "Epoch: 4/5 | Batch: 300/469 | Train Loss: 0.0472\n",
            "Epoch: 4/5 | Batch: 400/469 | Train Loss: 0.0540\n",
            "Epoch: 4/5 | Test Loss: 0.0400 | Test Acc: 0.9859\n",
            "Epoch: 5/5 | Batch: 100/469 | Train Loss: 0.0417\n",
            "Epoch: 5/5 | Batch: 200/469 | Train Loss: 0.0457\n",
            "Epoch: 5/5 | Batch: 300/469 | Train Loss: 0.0422\n",
            "Epoch: 5/5 | Batch: 400/469 | Train Loss: 0.0461\n",
            "Epoch: 5/5 | Test Loss: 0.0456 | Test Acc: 0.9839\n",
            "Training Took:1.27 minutes!\n"
          ]
        }
      ],
      "source": [
        "# keep track of time\n",
        "import time\n",
        "start_time = time.time()\n",
        "\n",
        "device = torch.device(\"cuda\" if torch.cuda.is_available() else \"cpu\")\n",
        "we_model.to(device) # Move the model to the GPU if availabl else cpu\n",
        "\n",
        "epochs = 5\n",
        "train_losses, test_losses = [], []\n",
        "train_acc, test_acc = [], []\n",
        "\n",
        "for epoch in range(epochs):\n",
        "  we_model.train()\n",
        "  running_loss, correct = 0.0, 0\n",
        "\n",
        "  for batch_idx, (X_train, y_train) in enumerate(train_loader):\n",
        "    X_train, y_train = X_train.to(device), y_train.to(device)\n",
        "\n",
        "    # Forward pass\n",
        "    y_pred = we_model(X_train)\n",
        "    loss = criterion(y_pred, y_train)\n",
        "\n",
        "    # Backward pass\n",
        "    optimizer.zero_grad()\n",
        "    loss.backward()\n",
        "    optimizer.step()\n",
        "\n",
        "    # Metrics\n",
        "    running_loss += loss.item()\n",
        "    predicted = torch.argmax(y_pred, dim=1)\n",
        "    correct += (predicted == y_train).sum().item()\n",
        "\n",
        "    # Print out some results every 100 batches\n",
        "    if (batch_idx + 1) % 100 == 0:\n",
        "      print(f'Epoch: {epoch+1}/{epochs} | Batch: {batch_idx+1}/{len(train_loader)} | Train Loss: {running_loss/100:.4f}')\n",
        "      running_loss = 0.0 # Reset running loss for the next 100 batches\n",
        "\n",
        "\n",
        "  epoch_loss = running_loss / (len(train_loader)%100) if len(train_loader)%100 != 0 else running_loss/100 # Handle the remaining batches\n",
        "  epoch_acc = correct / len(train_data)\n",
        "  train_losses.append(epoch_loss)\n",
        "  train_acc.append(epoch_acc)\n",
        "\n",
        "\n",
        "  # -----Test phase-----\n",
        "  we_model.eval()\n",
        "  running_loss, correct = 0.0, 0\n",
        "  with torch.no_grad(): # No gradient so we don't update our weights and biases with test data\n",
        "    for X_test, y_test in test_loader:\n",
        "      X_test, y_test = X_test.to(device), y_test.to(device)\n",
        "      y_val = we_model(X_test)\n",
        "      loss = criterion(y_val, y_test)\n",
        "\n",
        "      running_loss += loss.item()\n",
        "      predicted = torch.argmax(y_val, dim=1) # Adding up correct predictions\n",
        "      correct += (predicted == y_test).sum().item() # T=1 F=0 and sum away\n",
        "\n",
        "  epoch_loss = running_loss / len(test_loader)\n",
        "  epoch_acc = correct / len(test_data)\n",
        "  test_losses.append(epoch_loss)\n",
        "  test_acc.append(epoch_acc)\n",
        "  print(f'Epoch: {epoch+1}/{epochs} | Test Loss: {test_losses[-1]:.4f} | Test Acc: {test_acc[-1]:.4f}')\n",
        "\n",
        "\n",
        "current_time = time.time()\n",
        "total = current_time - start_time\n",
        "print(f\"Training Took:{total/60:.2f} minutes!\")"
      ]
    },
    {
      "cell_type": "markdown",
      "source": [
        "#### Graph the Loss at each Epoch"
      ],
      "metadata": {
        "id": "o0NQShBE9gQK"
      }
    },
    {
      "cell_type": "code",
      "execution_count": 31,
      "metadata": {
        "id": "2C7kWo_7coJy",
        "colab": {
          "base_uri": "https://localhost:8080/",
          "height": 487
        },
        "outputId": "d3d060de-b216-45d1-b0af-f7dc3cfd0262"
      },
      "outputs": [
        {
          "output_type": "display_data",
          "data": {
            "text/plain": [
              "<Figure size 1000x500 with 1 Axes>"
            ],
            "image/png": "[encoded data removed]"
          },
          "metadata": {}
        }
      ],
      "source": [
        "# Graph the loss at Epoch\n",
        "import matplotlib.pyplot as plt\n",
        "\n",
        "# Plot Loss\n",
        "plt.figure(figsize=(10, 5))\n",
        "\n",
        "plt.subplot(1,2,1)\n",
        "plt.plot(train_losses, label=\"Training Data\")\n",
        "plt.plot(test_losses, label=\"Validation Loss\")\n",
        "plt.title(\"Loss at Epoch\")\n",
        "plt.xlabel(\"Epoch\")\n",
        "plt.ylabel(\"Loss\")\n",
        "plt.legend()\n",
        "%matplotlib inline"
      ]
    },
    {
      "cell_type": "code",
      "source": [
        "print(test_acc)"
      ],
      "metadata": {
        "colab": {
          "base_uri": "https://localhost:8080/"
        },
        "id": "nnijyOFuS-s3",
        "outputId": "e763dcba-6f46-4118-e54d-8b1cef3ed1eb"
      },
      "execution_count": 32,
      "outputs": [
        {
          "output_type": "stream",
          "name": "stdout",
          "text": [
            "[0.9709, 0.9798, 0.9835, 0.9859, 0.9839]\n"
          ]
        }
      ]
    },
    {
      "cell_type": "code",
      "source": [
        "\n",
        "plt.subplot(1,2,2)\n",
        "plt.plot(train_acc, label='Train Accuracy')\n",
        "plt.plot(test_acc, label='Test Accuracy')\n",
        "plt.title(\"Accuracy over Epochs\")\n",
        "plt.xlabel(\"Epoch\")\n",
        "plt.ylabel(\"Accuracy\")\n",
        "plt.legend()\n",
        "plt.show()\n"
      ],
      "metadata": {
        "colab": {
          "base_uri": "https://localhost:8080/",
          "height": 472
        },
        "id": "5_4RzlEJQ-Qq",
        "outputId": "66e4bca8-4420-4415-8645-55baa8941a4a"
      },
      "execution_count": 33,
      "outputs": [
        {
          "output_type": "display_data",
          "data": {
            "text/plain": [
              "<Figure size 640x480 with 1 Axes>"
            ],
            "image/png": "[encoded data removed]"
          },
          "metadata": {}
        }
      ]
    },
    {
      "cell_type": "code",
      "source": [
        "# Graph the accuracy at the end of each epoch\n",
        "import matplotlib.pyplot as plt\n",
        "%matplotlib inline\n",
        "\n",
        "plt.plot([t/100 for t in train_acc], label=\"Training Accuracy\")\n",
        "plt.plot([t/100 for t in test_acc], label=\"Validation Accuracy\")\n",
        "plt.title(\"Accuracy at the end of each Epoch\")\n",
        "plt.legend()"
      ],
      "metadata": {
        "colab": {
          "base_uri": "https://localhost:8080/",
          "height": 469
        },
        "id": "PDnH3UAC2bOS",
        "outputId": "5dcb70c2-1d70-4008-fd5d-174c529ee42a"
      },
      "execution_count": 34,
      "outputs": [
        {
          "output_type": "execute_result",
          "data": {
            "text/plain": [
              "<matplotlib.legend.Legend at 0x794269df6600>"
            ]
          },
          "metadata": {},
          "execution_count": 34
        },
        {
          "output_type": "display_data",
          "data": {
            "text/plain": [
              "<Figure size 640x480 with 1 Axes>"
            ],
            "image/png": "[encoded data removed]"
          },
          "metadata": {}
        }
      ]
    },
    {
      "cell_type": "code",
      "source": [
        "# Evaluate your full dataset\n",
        "test_load_everything = DataLoader(test_data, batch_size=10000, shuffle=False)\n"
      ],
      "metadata": {
        "id": "q7zXr1LN4yO-"
      },
      "execution_count": 44,
      "outputs": []
    },
    {
      "cell_type": "code",
      "source": [
        "we_model.eval()\n",
        "with torch.no_grad():\n",
        "  correct = 0\n",
        "  for X_test, y_test in test_load_everything:\n",
        "    X_test, y_test = X_test.to(device), y_test.to(device)\n",
        "    y_val = we_model(X_test)\n",
        "    predicted = torch.argmax(y_val, dim=1)\n",
        "    correct += (predicted == y_test).sum().item()\n",
        "\n"
      ],
      "metadata": {
        "id": "SWpHmK3-5-8w"
      },
      "execution_count": 45,
      "outputs": []
    },
    {
      "cell_type": "code",
      "source": [
        "test_acc"
      ],
      "metadata": {
        "colab": {
          "base_uri": "https://localhost:8080/"
        },
        "id": "9jGyDrNz_Dcn",
        "outputId": "38d96481-9bb2-4aa2-8cbe-f90a27a5bd00"
      },
      "execution_count": 46,
      "outputs": [
        {
          "output_type": "execute_result",
          "data": {
            "text/plain": [
              "98.39"
            ]
          },
          "metadata": {},
          "execution_count": 46
        }
      ]
    },
    {
      "cell_type": "code",
      "source": [
        "# Did for correct?\n",
        "test_acc = correct / len(test_data) * 100\n",
        "print(f\"Final Test Accuracy: {test_acc}\")"
      ],
      "metadata": {
        "colab": {
          "base_uri": "https://localhost:8080/"
        },
        "id": "9x4xCdvC6WHg",
        "outputId": "f0656726-0bc2-4363-b97f-b385ce0a3259"
      },
      "execution_count": 48,
      "outputs": [
        {
          "output_type": "stream",
          "name": "stdout",
          "text": [
            "Final Test Accuracy: 98.39\n"
          ]
        }
      ]
    },
    {
      "cell_type": "markdown",
      "source": [
        "#### Sending an Image into the CNN Model"
      ],
      "metadata": {
        "id": "jy33M8ID_9aE"
      }
    },
    {
      "cell_type": "code",
      "source": [
        "# Grab an Image\n",
        "test_data[1976]   # Gives us a tensor with an image in it..at end it showss the label"
      ],
      "metadata": {
        "colab": {
          "base_uri": "https://localhost:8080/"
        },
        "id": "287VlojO_9At",
        "outputId": "749ac912-677a-48a5-ed24-ca7021bb4aa0"
      },
      "execution_count": 59,
      "outputs": [
        {
          "output_type": "execute_result",
          "data": {
            "text/plain": [
              "(tensor([[[-0.4242, -0.4242, -0.4242, -0.4242, -0.4242, -0.4242, -0.4242,\n",
              "           -0.4242, -0.4242, -0.4242, -0.4242, -0.4242, -0.4242, -0.4242,\n",
              "           -0.4242, -0.4242, -0.4242, -0.4242, -0.4242, -0.4242, -0.4242,\n",
              "           -0.4242, -0.4242, -0.4242, -0.4242, -0.4242, -0.4242, -0.4242],\n",
              "          [-0.4242, -0.4242, -0.4242, -0.4242, -0.4242, -0.4242, -0.4242,\n",
              "           -0.4242, -0.4242, -0.4242, -0.4242, -0.4242, -0.4242, -0.4242,\n",
              "           -0.4242, -0.4242, -0.4242, -0.4242, -0.4242, -0.4242, -0.4242,\n",
              "           -0.4242, -0.4242, -0.4242, -0.4242, -0.4242, -0.4242, -0.4242],\n",
              "          [-0.4242, -0.4242, -0.4242, -0.4242, -0.4242, -0.4242, -0.4242,\n",
              "           -0.4242, -0.4242, -0.4242, -0.4242, -0.4242, -0.4242, -0.4242,\n",
              "           -0.4242, -0.4242, -0.4242, -0.4242, -0.4242, -0.4242, -0.4242,\n",
              "           -0.4242, -0.4242, -0.4242, -0.4242, -0.4242, -0.4242, -0.4242],\n",
              "          [-0.4242, -0.4242, -0.4242, -0.4242, -0.4242, -0.4242, -0.4242,\n",
              "           -0.4242, -0.4242, -0.4242, -0.4242, -0.4242, -0.4242, -0.4242,\n",
              "           -0.4242, -0.4242, -0.4242, -0.4242, -0.4242, -0.4242, -0.4242,\n",
              "           -0.4242, -0.4242, -0.4242, -0.4242, -0.4242, -0.4242, -0.4242],\n",
              "          [-0.4242, -0.4242, -0.4242, -0.4242, -0.4242, -0.4242, -0.4242,\n",
              "           -0.4242, -0.4242, -0.4242, -0.4242, -0.4242, -0.4242, -0.4242,\n",
              "           -0.4242, -0.4242, -0.4242, -0.4242, -0.4242, -0.4242, -0.4242,\n",
              "           -0.4242, -0.4242, -0.4242, -0.4242, -0.4242, -0.4242, -0.4242],\n",
              "          [-0.4242, -0.4242, -0.4242, -0.4242, -0.4242, -0.4242, -0.4242,\n",
              "           -0.4242,  0.5177,  2.8215,  2.7960,  2.7960,  2.7960,  2.7960,\n",
              "            2.8215,  2.7960,  2.7960,  1.0650, -0.3860, -0.4242, -0.4242,\n",
              "           -0.4242, -0.4242, -0.4242, -0.4242, -0.4242, -0.4242, -0.4242],\n",
              "          [-0.4242, -0.4242, -0.4242, -0.4242, -0.4242, -0.4242, -0.4242,\n",
              "           -0.4242,  2.2360,  2.7960,  2.7833,  2.7833,  2.5669,  2.7324,\n",
              "            2.7960,  2.7833,  2.7833,  2.7833,  0.1231, -0.4242, -0.4242,\n",
              "           -0.4242, -0.4242, -0.4242, -0.4242, -0.4242, -0.4242, -0.4242],\n",
              "          [-0.4242, -0.4242, -0.4242, -0.4242, -0.4242, -0.4242, -0.4242,\n",
              "           -0.4242, -0.0169,  0.4540,  0.4540,  0.4540,  0.8613,  2.5797,\n",
              "            2.7960,  2.7833,  2.7833,  1.9305,  0.0467, -0.4242, -0.4242,\n",
              "           -0.4242, -0.4242, -0.4242, -0.4242, -0.4242, -0.4242, -0.4242],\n",
              "          [-0.4242, -0.4242, -0.4242, -0.4242, -0.4242, -0.4242, -0.4242,\n",
              "           -0.4242, -0.4242, -0.4242, -0.4242,  0.8486,  2.6815,  2.7833,\n",
              "            2.7960,  2.7833,  2.7833,  0.4159, -0.4242, -0.4242, -0.4242,\n",
              "           -0.4242, -0.4242, -0.4242, -0.4242, -0.4242, -0.4242, -0.4242],\n",
              "          [-0.4242, -0.4242, -0.4242, -0.4242, -0.4242, -0.4242, -0.4242,\n",
              "           -0.4242, -0.4242, -0.4242,  0.1231,  2.7069,  2.7833,  2.7833,\n",
              "            2.7960,  2.7833,  1.3068, -0.3733, -0.4242, -0.4242, -0.4242,\n",
              "           -0.4242, -0.4242, -0.4242, -0.4242, -0.4242, -0.4242, -0.4242],\n",
              "          [-0.4242, -0.4242, -0.4242, -0.4242, -0.4242, -0.4242, -0.4242,\n",
              "           -0.4242, -0.4242, -0.4242, -0.1442,  2.1978,  2.7960,  2.7960,\n",
              "            2.8215,  0.8868, -0.4242, -0.4242, -0.4242, -0.4242, -0.4242,\n",
              "           -0.4242, -0.4242, -0.4242, -0.4242, -0.4242, -0.4242, -0.4242],\n",
              "          [-0.4242, -0.4242, -0.4242, -0.4242, -0.4242, -0.4242, -0.4242,\n",
              "           -0.4242, -0.4242, -0.4242, -0.4242,  0.3013,  2.6815,  2.7833,\n",
              "            2.7960,  2.5797,  1.2177, -0.3097, -0.4242, -0.4242, -0.4242,\n",
              "           -0.4242, -0.4242, -0.4242, -0.4242, -0.4242, -0.4242, -0.4242],\n",
              "          [-0.4242, -0.4242, -0.4242, -0.4242, -0.4242, -0.4242, -0.4242,\n",
              "           -0.4242, -0.4242, -0.4242, -0.4242, -0.4242,  0.2886,  1.7778,\n",
              "            2.4015,  2.7833,  2.7833,  1.5359,  0.0595, -0.4242, -0.4242,\n",
              "           -0.4242, -0.4242, -0.4242, -0.4242, -0.4242, -0.4242, -0.4242],\n",
              "          [-0.4242, -0.4242, -0.4242, -0.4242, -0.4242, -0.4242, -0.4242,\n",
              "           -0.4242, -0.4242, -0.4242, -0.4242, -0.4242, -0.4242, -0.4242,\n",
              "           -0.1060,  1.2941,  2.7833,  2.7833,  1.8541, -0.4242, -0.4242,\n",
              "           -0.4242, -0.4242, -0.4242, -0.4242, -0.4242, -0.4242, -0.4242],\n",
              "          [-0.4242, -0.4242, -0.4242, -0.4242, -0.4242, -0.4242, -0.4242,\n",
              "           -0.4242, -0.4242, -0.4242, -0.4242, -0.4242, -0.4242, -0.4242,\n",
              "           -0.4242, -0.0933,  2.3887,  2.7833,  2.7833,  1.5868, -0.4242,\n",
              "           -0.4242, -0.4242, -0.4242, -0.4242, -0.4242, -0.4242, -0.4242],\n",
              "          [-0.4242, -0.4242, -0.4242, -0.4242, -0.4242, -0.4242, -0.4242,\n",
              "           -0.4242, -0.4242, -0.4242, -0.4242, -0.4242, -0.4242, -0.4242,\n",
              "           -0.4242, -0.4242,  1.1414,  2.7960,  2.7960,  2.5160, -0.4242,\n",
              "           -0.4242, -0.4242, -0.4242, -0.4242, -0.4242, -0.4242, -0.4242],\n",
              "          [-0.4242, -0.4242, -0.4242, -0.4242, -0.4242, -0.4242, -0.4242,\n",
              "           -0.4242, -0.4242, -0.4242, -0.4242, -0.4242, -0.4242, -0.4242,\n",
              "           -0.4242, -0.4242,  1.3832,  2.7833,  2.7833,  2.5033, -0.4242,\n",
              "           -0.4242, -0.4242, -0.4242, -0.4242, -0.4242, -0.4242, -0.4242],\n",
              "          [-0.4242, -0.4242, -0.4242, -0.4242, -0.4242, -0.4242, -0.4242,\n",
              "           -0.4242, -0.4242, -0.4242, -0.4242, -0.4242, -0.4242, -0.4242,\n",
              "           -0.4242,  0.0085,  2.5542,  2.7833,  2.7833,  2.5033, -0.4242,\n",
              "           -0.4242, -0.4242, -0.4242, -0.4242, -0.4242, -0.4242, -0.4242],\n",
              "          [-0.4242, -0.4242, -0.4242, -0.4242, -0.4242, -0.4242, -0.4242,\n",
              "           -0.4242, -0.4242, -0.4242, -0.4242, -0.4242, -0.4242, -0.4242,\n",
              "            0.2249,  1.7905,  2.7833,  2.7833,  2.7833,  2.5033, -0.4242,\n",
              "           -0.4242, -0.4242, -0.4242, -0.4242, -0.4242, -0.4242, -0.4242],\n",
              "          [-0.4242, -0.4242, -0.4242, -0.4242, -0.4242, -0.4242, -0.4242,\n",
              "           -0.4242, -0.4242, -0.4242, -0.4242, -0.4242, -0.4242, -0.4242,\n",
              "            2.0069,  2.7833,  2.7833,  2.7833,  2.7833,  1.8414, -0.4242,\n",
              "           -0.4242, -0.4242, -0.4242, -0.4242, -0.4242, -0.4242, -0.4242],\n",
              "          [-0.4242, -0.4242, -0.4242, -0.4242, -0.4242, -0.4242, -0.4242,\n",
              "           -0.4242, -0.4242, -0.3860, -0.1824, -0.4242, -0.1824,  1.8796,\n",
              "            2.8215,  2.7960,  2.7960,  2.7960,  1.9942, -0.4242, -0.4242,\n",
              "           -0.4242, -0.4242, -0.4242, -0.4242, -0.4242, -0.4242, -0.4242],\n",
              "          [-0.4242, -0.4242, -0.4242, -0.4242, -0.4242, -0.4242, -0.4242,\n",
              "           -0.4242, -0.4242,  1.7396,  2.5797,  0.9632,  2.5797,  2.7833,\n",
              "            2.7960,  2.7833,  2.7833,  1.7650,  0.2122, -0.4242, -0.4242,\n",
              "           -0.4242, -0.4242, -0.4242, -0.4242, -0.4242, -0.4242, -0.4242],\n",
              "          [-0.4242, -0.4242, -0.4242, -0.4242, -0.4242, -0.4242, -0.4242,\n",
              "           -0.4242,  0.6577,  2.7960,  2.7833,  2.7833,  2.7833,  2.7833,\n",
              "            2.7960,  2.3505,  0.4540, -0.2587, -0.4242, -0.4242, -0.4242,\n",
              "           -0.4242, -0.4242, -0.4242, -0.4242, -0.4242, -0.4242, -0.4242],\n",
              "          [-0.4242, -0.4242, -0.4242, -0.4242, -0.4242, -0.4242, -0.4242,\n",
              "           -0.4242, -0.1569,  2.7960,  2.7833,  2.7833,  2.7833,  2.7833,\n",
              "            2.6942,  0.5813, -0.4242, -0.4242, -0.4242, -0.4242, -0.4242,\n",
              "           -0.4242, -0.4242, -0.4242, -0.4242, -0.4242, -0.4242, -0.4242],\n",
              "          [-0.4242, -0.4242, -0.4242, -0.4242, -0.4242, -0.4242, -0.4242,\n",
              "           -0.4242, -0.4242, -0.0042,  2.2614,  2.7833,  2.7833,  0.1104,\n",
              "           -0.1569, -0.4242, -0.4242, -0.4242, -0.4242, -0.4242, -0.4242,\n",
              "           -0.4242, -0.4242, -0.4242, -0.4242, -0.4242, -0.4242, -0.4242],\n",
              "          [-0.4242, -0.4242, -0.4242, -0.4242, -0.4242, -0.4242, -0.4242,\n",
              "           -0.4242, -0.4242, -0.4242, -0.4242, -0.4242, -0.4242, -0.4242,\n",
              "           -0.4242, -0.4242, -0.4242, -0.4242, -0.4242, -0.4242, -0.4242,\n",
              "           -0.4242, -0.4242, -0.4242, -0.4242, -0.4242, -0.4242, -0.4242],\n",
              "          [-0.4242, -0.4242, -0.4242, -0.4242, -0.4242, -0.4242, -0.4242,\n",
              "           -0.4242, -0.4242, -0.4242, -0.4242, -0.4242, -0.4242, -0.4242,\n",
              "           -0.4242, -0.4242, -0.4242, -0.4242, -0.4242, -0.4242, -0.4242,\n",
              "           -0.4242, -0.4242, -0.4242, -0.4242, -0.4242, -0.4242, -0.4242],\n",
              "          [-0.4242, -0.4242, -0.4242, -0.4242, -0.4242, -0.4242, -0.4242,\n",
              "           -0.4242, -0.4242, -0.4242, -0.4242, -0.4242, -0.4242, -0.4242,\n",
              "           -0.4242, -0.4242, -0.4242, -0.4242, -0.4242, -0.4242, -0.4242,\n",
              "           -0.4242, -0.4242, -0.4242, -0.4242, -0.4242, -0.4242, -0.4242]]]),\n",
              " 3)"
            ]
          },
          "metadata": {},
          "execution_count": 59
        }
      ]
    },
    {
      "cell_type": "code",
      "source": [
        "# Grab just the data\n",
        "test_data[1976][0]"
      ],
      "metadata": {
        "colab": {
          "base_uri": "https://localhost:8080/"
        },
        "id": "w1LdKr0TBRZi",
        "outputId": "9605de87-42df-4fde-8881-f0fed0e51a76"
      },
      "execution_count": 60,
      "outputs": [
        {
          "output_type": "execute_result",
          "data": {
            "text/plain": [
              "tensor([[[-0.4242, -0.4242, -0.4242, -0.4242, -0.4242, -0.4242, -0.4242,\n",
              "          -0.4242, -0.4242, -0.4242, -0.4242, -0.4242, -0.4242, -0.4242,\n",
              "          -0.4242, -0.4242, -0.4242, -0.4242, -0.4242, -0.4242, -0.4242,\n",
              "          -0.4242, -0.4242, -0.4242, -0.4242, -0.4242, -0.4242, -0.4242],\n",
              "         [-0.4242, -0.4242, -0.4242, -0.4242, -0.4242, -0.4242, -0.4242,\n",
              "          -0.4242, -0.4242, -0.4242, -0.4242, -0.4242, -0.4242, -0.4242,\n",
              "          -0.4242, -0.4242, -0.4242, -0.4242, -0.4242, -0.4242, -0.4242,\n",
              "          -0.4242, -0.4242, -0.4242, -0.4242, -0.4242, -0.4242, -0.4242],\n",
              "         [-0.4242, -0.4242, -0.4242, -0.4242, -0.4242, -0.4242, -0.4242,\n",
              "          -0.4242, -0.4242, -0.4242, -0.4242, -0.4242, -0.4242, -0.4242,\n",
              "          -0.4242, -0.4242, -0.4242, -0.4242, -0.4242, -0.4242, -0.4242,\n",
              "          -0.4242, -0.4242, -0.4242, -0.4242, -0.4242, -0.4242, -0.4242],\n",
              "         [-0.4242, -0.4242, -0.4242, -0.4242, -0.4242, -0.4242, -0.4242,\n",
              "          -0.4242, -0.4242, -0.4242, -0.4242, -0.4242, -0.4242, -0.4242,\n",
              "          -0.4242, -0.4242, -0.4242, -0.4242, -0.4242, -0.4242, -0.4242,\n",
              "          -0.4242, -0.4242, -0.4242, -0.4242, -0.4242, -0.4242, -0.4242],\n",
              "         [-0.4242, -0.4242, -0.4242, -0.4242, -0.4242, -0.4242, -0.4242,\n",
              "          -0.4242, -0.4242, -0.4242, -0.4242, -0.4242, -0.4242, -0.4242,\n",
              "          -0.4242, -0.4242, -0.4242, -0.4242, -0.4242, -0.4242, -0.4242,\n",
              "          -0.4242, -0.4242, -0.4242, -0.4242, -0.4242, -0.4242, -0.4242],\n",
              "         [-0.4242, -0.4242, -0.4242, -0.4242, -0.4242, -0.4242, -0.4242,\n",
              "          -0.4242,  0.5177,  2.8215,  2.7960,  2.7960,  2.7960,  2.7960,\n",
              "           2.8215,  2.7960,  2.7960,  1.0650, -0.3860, -0.4242, -0.4242,\n",
              "          -0.4242, -0.4242, -0.4242, -0.4242, -0.4242, -0.4242, -0.4242],\n",
              "         [-0.4242, -0.4242, -0.4242, -0.4242, -0.4242, -0.4242, -0.4242,\n",
              "          -0.4242,  2.2360,  2.7960,  2.7833,  2.7833,  2.5669,  2.7324,\n",
              "           2.7960,  2.7833,  2.7833,  2.7833,  0.1231, -0.4242, -0.4242,\n",
              "          -0.4242, -0.4242, -0.4242, -0.4242, -0.4242, -0.4242, -0.4242],\n",
              "         [-0.4242, -0.4242, -0.4242, -0.4242, -0.4242, -0.4242, -0.4242,\n",
              "          -0.4242, -0.0169,  0.4540,  0.4540,  0.4540,  0.8613,  2.5797,\n",
              "           2.7960,  2.7833,  2.7833,  1.9305,  0.0467, -0.4242, -0.4242,\n",
              "          -0.4242, -0.4242, -0.4242, -0.4242, -0.4242, -0.4242, -0.4242],\n",
              "         [-0.4242, -0.4242, -0.4242, -0.4242, -0.4242, -0.4242, -0.4242,\n",
              "          -0.4242, -0.4242, -0.4242, -0.4242,  0.8486,  2.6815,  2.7833,\n",
              "           2.7960,  2.7833,  2.7833,  0.4159, -0.4242, -0.4242, -0.4242,\n",
              "          -0.4242, -0.4242, -0.4242, -0.4242, -0.4242, -0.4242, -0.4242],\n",
              "         [-0.4242, -0.4242, -0.4242, -0.4242, -0.4242, -0.4242, -0.4242,\n",
              "          -0.4242, -0.4242, -0.4242,  0.1231,  2.7069,  2.7833,  2.7833,\n",
              "           2.7960,  2.7833,  1.3068, -0.3733, -0.4242, -0.4242, -0.4242,\n",
              "          -0.4242, -0.4242, -0.4242, -0.4242, -0.4242, -0.4242, -0.4242],\n",
              "         [-0.4242, -0.4242, -0.4242, -0.4242, -0.4242, -0.4242, -0.4242,\n",
              "          -0.4242, -0.4242, -0.4242, -0.1442,  2.1978,  2.7960,  2.7960,\n",
              "           2.8215,  0.8868, -0.4242, -0.4242, -0.4242, -0.4242, -0.4242,\n",
              "          -0.4242, -0.4242, -0.4242, -0.4242, -0.4242, -0.4242, -0.4242],\n",
              "         [-0.4242, -0.4242, -0.4242, -0.4242, -0.4242, -0.4242, -0.4242,\n",
              "          -0.4242, -0.4242, -0.4242, -0.4242,  0.3013,  2.6815,  2.7833,\n",
              "           2.7960,  2.5797,  1.2177, -0.3097, -0.4242, -0.4242, -0.4242,\n",
              "          -0.4242, -0.4242, -0.4242, -0.4242, -0.4242, -0.4242, -0.4242],\n",
              "         [-0.4242, -0.4242, -0.4242, -0.4242, -0.4242, -0.4242, -0.4242,\n",
              "          -0.4242, -0.4242, -0.4242, -0.4242, -0.4242,  0.2886,  1.7778,\n",
              "           2.4015,  2.7833,  2.7833,  1.5359,  0.0595, -0.4242, -0.4242,\n",
              "          -0.4242, -0.4242, -0.4242, -0.4242, -0.4242, -0.4242, -0.4242],\n",
              "         [-0.4242, -0.4242, -0.4242, -0.4242, -0.4242, -0.4242, -0.4242,\n",
              "          -0.4242, -0.4242, -0.4242, -0.4242, -0.4242, -0.4242, -0.4242,\n",
              "          -0.1060,  1.2941,  2.7833,  2.7833,  1.8541, -0.4242, -0.4242,\n",
              "          -0.4242, -0.4242, -0.4242, -0.4242, -0.4242, -0.4242, -0.4242],\n",
              "         [-0.4242, -0.4242, -0.4242, -0.4242, -0.4242, -0.4242, -0.4242,\n",
              "          -0.4242, -0.4242, -0.4242, -0.4242, -0.4242, -0.4242, -0.4242,\n",
              "          -0.4242, -0.0933,  2.3887,  2.7833,  2.7833,  1.5868, -0.4242,\n",
              "          -0.4242, -0.4242, -0.4242, -0.4242, -0.4242, -0.4242, -0.4242],\n",
              "         [-0.4242, -0.4242, -0.4242, -0.4242, -0.4242, -0.4242, -0.4242,\n",
              "          -0.4242, -0.4242, -0.4242, -0.4242, -0.4242, -0.4242, -0.4242,\n",
              "          -0.4242, -0.4242,  1.1414,  2.7960,  2.7960,  2.5160, -0.4242,\n",
              "          -0.4242, -0.4242, -0.4242, -0.4242, -0.4242, -0.4242, -0.4242],\n",
              "         [-0.4242, -0.4242, -0.4242, -0.4242, -0.4242, -0.4242, -0.4242,\n",
              "          -0.4242, -0.4242, -0.4242, -0.4242, -0.4242, -0.4242, -0.4242,\n",
              "          -0.4242, -0.4242,  1.3832,  2.7833,  2.7833,  2.5033, -0.4242,\n",
              "          -0.4242, -0.4242, -0.4242, -0.4242, -0.4242, -0.4242, -0.4242],\n",
              "         [-0.4242, -0.4242, -0.4242, -0.4242, -0.4242, -0.4242, -0.4242,\n",
              "          -0.4242, -0.4242, -0.4242, -0.4242, -0.4242, -0.4242, -0.4242,\n",
              "          -0.4242,  0.0085,  2.5542,  2.7833,  2.7833,  2.5033, -0.4242,\n",
              "          -0.4242, -0.4242, -0.4242, -0.4242, -0.4242, -0.4242, -0.4242],\n",
              "         [-0.4242, -0.4242, -0.4242, -0.4242, -0.4242, -0.4242, -0.4242,\n",
              "          -0.4242, -0.4242, -0.4242, -0.4242, -0.4242, -0.4242, -0.4242,\n",
              "           0.2249,  1.7905,  2.7833,  2.7833,  2.7833,  2.5033, -0.4242,\n",
              "          -0.4242, -0.4242, -0.4242, -0.4242, -0.4242, -0.4242, -0.4242],\n",
              "         [-0.4242, -0.4242, -0.4242, -0.4242, -0.4242, -0.4242, -0.4242,\n",
              "          -0.4242, -0.4242, -0.4242, -0.4242, -0.4242, -0.4242, -0.4242,\n",
              "           2.0069,  2.7833,  2.7833,  2.7833,  2.7833,  1.8414, -0.4242,\n",
              "          -0.4242, -0.4242, -0.4242, -0.4242, -0.4242, -0.4242, -0.4242],\n",
              "         [-0.4242, -0.4242, -0.4242, -0.4242, -0.4242, -0.4242, -0.4242,\n",
              "          -0.4242, -0.4242, -0.3860, -0.1824, -0.4242, -0.1824,  1.8796,\n",
              "           2.8215,  2.7960,  2.7960,  2.7960,  1.9942, -0.4242, -0.4242,\n",
              "          -0.4242, -0.4242, -0.4242, -0.4242, -0.4242, -0.4242, -0.4242],\n",
              "         [-0.4242, -0.4242, -0.4242, -0.4242, -0.4242, -0.4242, -0.4242,\n",
              "          -0.4242, -0.4242,  1.7396,  2.5797,  0.9632,  2.5797,  2.7833,\n",
              "           2.7960,  2.7833,  2.7833,  1.7650,  0.2122, -0.4242, -0.4242,\n",
              "          -0.4242, -0.4242, -0.4242, -0.4242, -0.4242, -0.4242, -0.4242],\n",
              "         [-0.4242, -0.4242, -0.4242, -0.4242, -0.4242, -0.4242, -0.4242,\n",
              "          -0.4242,  0.6577,  2.7960,  2.7833,  2.7833,  2.7833,  2.7833,\n",
              "           2.7960,  2.3505,  0.4540, -0.2587, -0.4242, -0.4242, -0.4242,\n",
              "          -0.4242, -0.4242, -0.4242, -0.4242, -0.4242, -0.4242, -0.4242],\n",
              "         [-0.4242, -0.4242, -0.4242, -0.4242, -0.4242, -0.4242, -0.4242,\n",
              "          -0.4242, -0.1569,  2.7960,  2.7833,  2.7833,  2.7833,  2.7833,\n",
              "           2.6942,  0.5813, -0.4242, -0.4242, -0.4242, -0.4242, -0.4242,\n",
              "          -0.4242, -0.4242, -0.4242, -0.4242, -0.4242, -0.4242, -0.4242],\n",
              "         [-0.4242, -0.4242, -0.4242, -0.4242, -0.4242, -0.4242, -0.4242,\n",
              "          -0.4242, -0.4242, -0.0042,  2.2614,  2.7833,  2.7833,  0.1104,\n",
              "          -0.1569, -0.4242, -0.4242, -0.4242, -0.4242, -0.4242, -0.4242,\n",
              "          -0.4242, -0.4242, -0.4242, -0.4242, -0.4242, -0.4242, -0.4242],\n",
              "         [-0.4242, -0.4242, -0.4242, -0.4242, -0.4242, -0.4242, -0.4242,\n",
              "          -0.4242, -0.4242, -0.4242, -0.4242, -0.4242, -0.4242, -0.4242,\n",
              "          -0.4242, -0.4242, -0.4242, -0.4242, -0.4242, -0.4242, -0.4242,\n",
              "          -0.4242, -0.4242, -0.4242, -0.4242, -0.4242, -0.4242, -0.4242],\n",
              "         [-0.4242, -0.4242, -0.4242, -0.4242, -0.4242, -0.4242, -0.4242,\n",
              "          -0.4242, -0.4242, -0.4242, -0.4242, -0.4242, -0.4242, -0.4242,\n",
              "          -0.4242, -0.4242, -0.4242, -0.4242, -0.4242, -0.4242, -0.4242,\n",
              "          -0.4242, -0.4242, -0.4242, -0.4242, -0.4242, -0.4242, -0.4242],\n",
              "         [-0.4242, -0.4242, -0.4242, -0.4242, -0.4242, -0.4242, -0.4242,\n",
              "          -0.4242, -0.4242, -0.4242, -0.4242, -0.4242, -0.4242, -0.4242,\n",
              "          -0.4242, -0.4242, -0.4242, -0.4242, -0.4242, -0.4242, -0.4242,\n",
              "          -0.4242, -0.4242, -0.4242, -0.4242, -0.4242, -0.4242, -0.4242]]])"
            ]
          },
          "metadata": {},
          "execution_count": 60
        }
      ]
    },
    {
      "cell_type": "code",
      "source": [
        "# Reshape it\n",
        "test_data[1976][0].reshape(28,28)"
      ],
      "metadata": {
        "colab": {
          "base_uri": "https://localhost:8080/"
        },
        "id": "p-WjpTiFBeqZ",
        "outputId": "d56a7a4d-f12b-41ba-c89a-6116e522c5be"
      },
      "execution_count": 61,
      "outputs": [
        {
          "output_type": "execute_result",
          "data": {
            "text/plain": [
              "tensor([[-0.4242, -0.4242, -0.4242, -0.4242, -0.4242, -0.4242, -0.4242, -0.4242,\n",
              "         -0.4242, -0.4242, -0.4242, -0.4242, -0.4242, -0.4242, -0.4242, -0.4242,\n",
              "         -0.4242, -0.4242, -0.4242, -0.4242, -0.4242, -0.4242, -0.4242, -0.4242,\n",
              "         -0.4242, -0.4242, -0.4242, -0.4242],\n",
              "        [-0.4242, -0.4242, -0.4242, -0.4242, -0.4242, -0.4242, -0.4242, -0.4242,\n",
              "         -0.4242, -0.4242, -0.4242, -0.4242, -0.4242, -0.4242, -0.4242, -0.4242,\n",
              "         -0.4242, -0.4242, -0.4242, -0.4242, -0.4242, -0.4242, -0.4242, -0.4242,\n",
              "         -0.4242, -0.4242, -0.4242, -0.4242],\n",
              "        [-0.4242, -0.4242, -0.4242, -0.4242, -0.4242, -0.4242, -0.4242, -0.4242,\n",
              "         -0.4242, -0.4242, -0.4242, -0.4242, -0.4242, -0.4242, -0.4242, -0.4242,\n",
              "         -0.4242, -0.4242, -0.4242, -0.4242, -0.4242, -0.4242, -0.4242, -0.4242,\n",
              "         -0.4242, -0.4242, -0.4242, -0.4242],\n",
              "        [-0.4242, -0.4242, -0.4242, -0.4242, -0.4242, -0.4242, -0.4242, -0.4242,\n",
              "         -0.4242, -0.4242, -0.4242, -0.4242, -0.4242, -0.4242, -0.4242, -0.4242,\n",
              "         -0.4242, -0.4242, -0.4242, -0.4242, -0.4242, -0.4242, -0.4242, -0.4242,\n",
              "         -0.4242, -0.4242, -0.4242, -0.4242],\n",
              "        [-0.4242, -0.4242, -0.4242, -0.4242, -0.4242, -0.4242, -0.4242, -0.4242,\n",
              "         -0.4242, -0.4242, -0.4242, -0.4242, -0.4242, -0.4242, -0.4242, -0.4242,\n",
              "         -0.4242, -0.4242, -0.4242, -0.4242, -0.4242, -0.4242, -0.4242, -0.4242,\n",
              "         -0.4242, -0.4242, -0.4242, -0.4242],\n",
              "        [-0.4242, -0.4242, -0.4242, -0.4242, -0.4242, -0.4242, -0.4242, -0.4242,\n",
              "          0.5177,  2.8215,  2.7960,  2.7960,  2.7960,  2.7960,  2.8215,  2.7960,\n",
              "          2.7960,  1.0650, -0.3860, -0.4242, -0.4242, -0.4242, -0.4242, -0.4242,\n",
              "         -0.4242, -0.4242, -0.4242, -0.4242],\n",
              "        [-0.4242, -0.4242, -0.4242, -0.4242, -0.4242, -0.4242, -0.4242, -0.4242,\n",
              "          2.2360,  2.7960,  2.7833,  2.7833,  2.5669,  2.7324,  2.7960,  2.7833,\n",
              "          2.7833,  2.7833,  0.1231, -0.4242, -0.4242, -0.4242, -0.4242, -0.4242,\n",
              "         -0.4242, -0.4242, -0.4242, -0.4242],\n",
              "        [-0.4242, -0.4242, -0.4242, -0.4242, -0.4242, -0.4242, -0.4242, -0.4242,\n",
              "         -0.0169,  0.4540,  0.4540,  0.4540,  0.8613,  2.5797,  2.7960,  2.7833,\n",
              "          2.7833,  1.9305,  0.0467, -0.4242, -0.4242, -0.4242, -0.4242, -0.4242,\n",
              "         -0.4242, -0.4242, -0.4242, -0.4242],\n",
              "        [-0.4242, -0.4242, -0.4242, -0.4242, -0.4242, -0.4242, -0.4242, -0.4242,\n",
              "         -0.4242, -0.4242, -0.4242,  0.8486,  2.6815,  2.7833,  2.7960,  2.7833,\n",
              "          2.7833,  0.4159, -0.4242, -0.4242, -0.4242, -0.4242, -0.4242, -0.4242,\n",
              "         -0.4242, -0.4242, -0.4242, -0.4242],\n",
              "        [-0.4242, -0.4242, -0.4242, -0.4242, -0.4242, -0.4242, -0.4242, -0.4242,\n",
              "         -0.4242, -0.4242,  0.1231,  2.7069,  2.7833,  2.7833,  2.7960,  2.7833,\n",
              "          1.3068, -0.3733, -0.4242, -0.4242, -0.4242, -0.4242, -0.4242, -0.4242,\n",
              "         -0.4242, -0.4242, -0.4242, -0.4242],\n",
              "        [-0.4242, -0.4242, -0.4242, -0.4242, -0.4242, -0.4242, -0.4242, -0.4242,\n",
              "         -0.4242, -0.4242, -0.1442,  2.1978,  2.7960,  2.7960,  2.8215,  0.8868,\n",
              "         -0.4242, -0.4242, -0.4242, -0.4242, -0.4242, -0.4242, -0.4242, -0.4242,\n",
              "         -0.4242, -0.4242, -0.4242, -0.4242],\n",
              "        [-0.4242, -0.4242, -0.4242, -0.4242, -0.4242, -0.4242, -0.4242, -0.4242,\n",
              "         -0.4242, -0.4242, -0.4242,  0.3013,  2.6815,  2.7833,  2.7960,  2.5797,\n",
              "          1.2177, -0.3097, -0.4242, -0.4242, -0.4242, -0.4242, -0.4242, -0.4242,\n",
              "         -0.4242, -0.4242, -0.4242, -0.4242],\n",
              "        [-0.4242, -0.4242, -0.4242, -0.4242, -0.4242, -0.4242, -0.4242, -0.4242,\n",
              "         -0.4242, -0.4242, -0.4242, -0.4242,  0.2886,  1.7778,  2.4015,  2.7833,\n",
              "          2.7833,  1.5359,  0.0595, -0.4242, -0.4242, -0.4242, -0.4242, -0.4242,\n",
              "         -0.4242, -0.4242, -0.4242, -0.4242],\n",
              "        [-0.4242, -0.4242, -0.4242, -0.4242, -0.4242, -0.4242, -0.4242, -0.4242,\n",
              "         -0.4242, -0.4242, -0.4242, -0.4242, -0.4242, -0.4242, -0.1060,  1.2941,\n",
              "          2.7833,  2.7833,  1.8541, -0.4242, -0.4242, -0.4242, -0.4242, -0.4242,\n",
              "         -0.4242, -0.4242, -0.4242, -0.4242],\n",
              "        [-0.4242, -0.4242, -0.4242, -0.4242, -0.4242, -0.4242, -0.4242, -0.4242,\n",
              "         -0.4242, -0.4242, -0.4242, -0.4242, -0.4242, -0.4242, -0.4242, -0.0933,\n",
              "          2.3887,  2.7833,  2.7833,  1.5868, -0.4242, -0.4242, -0.4242, -0.4242,\n",
              "         -0.4242, -0.4242, -0.4242, -0.4242],\n",
              "        [-0.4242, -0.4242, -0.4242, -0.4242, -0.4242, -0.4242, -0.4242, -0.4242,\n",
              "         -0.4242, -0.4242, -0.4242, -0.4242, -0.4242, -0.4242, -0.4242, -0.4242,\n",
              "          1.1414,  2.7960,  2.7960,  2.5160, -0.4242, -0.4242, -0.4242, -0.4242,\n",
              "         -0.4242, -0.4242, -0.4242, -0.4242],\n",
              "        [-0.4242, -0.4242, -0.4242, -0.4242, -0.4242, -0.4242, -0.4242, -0.4242,\n",
              "         -0.4242, -0.4242, -0.4242, -0.4242, -0.4242, -0.4242, -0.4242, -0.4242,\n",
              "          1.3832,  2.7833,  2.7833,  2.5033, -0.4242, -0.4242, -0.4242, -0.4242,\n",
              "         -0.4242, -0.4242, -0.4242, -0.4242],\n",
              "        [-0.4242, -0.4242, -0.4242, -0.4242, -0.4242, -0.4242, -0.4242, -0.4242,\n",
              "         -0.4242, -0.4242, -0.4242, -0.4242, -0.4242, -0.4242, -0.4242,  0.0085,\n",
              "          2.5542,  2.7833,  2.7833,  2.5033, -0.4242, -0.4242, -0.4242, -0.4242,\n",
              "         -0.4242, -0.4242, -0.4242, -0.4242],\n",
              "        [-0.4242, -0.4242, -0.4242, -0.4242, -0.4242, -0.4242, -0.4242, -0.4242,\n",
              "         -0.4242, -0.4242, -0.4242, -0.4242, -0.4242, -0.4242,  0.2249,  1.7905,\n",
              "          2.7833,  2.7833,  2.7833,  2.5033, -0.4242, -0.4242, -0.4242, -0.4242,\n",
              "         -0.4242, -0.4242, -0.4242, -0.4242],\n",
              "        [-0.4242, -0.4242, -0.4242, -0.4242, -0.4242, -0.4242, -0.4242, -0.4242,\n",
              "         -0.4242, -0.4242, -0.4242, -0.4242, -0.4242, -0.4242,  2.0069,  2.7833,\n",
              "          2.7833,  2.7833,  2.7833,  1.8414, -0.4242, -0.4242, -0.4242, -0.4242,\n",
              "         -0.4242, -0.4242, -0.4242, -0.4242],\n",
              "        [-0.4242, -0.4242, -0.4242, -0.4242, -0.4242, -0.4242, -0.4242, -0.4242,\n",
              "         -0.4242, -0.3860, -0.1824, -0.4242, -0.1824,  1.8796,  2.8215,  2.7960,\n",
              "          2.7960,  2.7960,  1.9942, -0.4242, -0.4242, -0.4242, -0.4242, -0.4242,\n",
              "         -0.4242, -0.4242, -0.4242, -0.4242],\n",
              "        [-0.4242, -0.4242, -0.4242, -0.4242, -0.4242, -0.4242, -0.4242, -0.4242,\n",
              "         -0.4242,  1.7396,  2.5797,  0.9632,  2.5797,  2.7833,  2.7960,  2.7833,\n",
              "          2.7833,  1.7650,  0.2122, -0.4242, -0.4242, -0.4242, -0.4242, -0.4242,\n",
              "         -0.4242, -0.4242, -0.4242, -0.4242],\n",
              "        [-0.4242, -0.4242, -0.4242, -0.4242, -0.4242, -0.4242, -0.4242, -0.4242,\n",
              "          0.6577,  2.7960,  2.7833,  2.7833,  2.7833,  2.7833,  2.7960,  2.3505,\n",
              "          0.4540, -0.2587, -0.4242, -0.4242, -0.4242, -0.4242, -0.4242, -0.4242,\n",
              "         -0.4242, -0.4242, -0.4242, -0.4242],\n",
              "        [-0.4242, -0.4242, -0.4242, -0.4242, -0.4242, -0.4242, -0.4242, -0.4242,\n",
              "         -0.1569,  2.7960,  2.7833,  2.7833,  2.7833,  2.7833,  2.6942,  0.5813,\n",
              "         -0.4242, -0.4242, -0.4242, -0.4242, -0.4242, -0.4242, -0.4242, -0.4242,\n",
              "         -0.4242, -0.4242, -0.4242, -0.4242],\n",
              "        [-0.4242, -0.4242, -0.4242, -0.4242, -0.4242, -0.4242, -0.4242, -0.4242,\n",
              "         -0.4242, -0.0042,  2.2614,  2.7833,  2.7833,  0.1104, -0.1569, -0.4242,\n",
              "         -0.4242, -0.4242, -0.4242, -0.4242, -0.4242, -0.4242, -0.4242, -0.4242,\n",
              "         -0.4242, -0.4242, -0.4242, -0.4242],\n",
              "        [-0.4242, -0.4242, -0.4242, -0.4242, -0.4242, -0.4242, -0.4242, -0.4242,\n",
              "         -0.4242, -0.4242, -0.4242, -0.4242, -0.4242, -0.4242, -0.4242, -0.4242,\n",
              "         -0.4242, -0.4242, -0.4242, -0.4242, -0.4242, -0.4242, -0.4242, -0.4242,\n",
              "         -0.4242, -0.4242, -0.4242, -0.4242],\n",
              "        [-0.4242, -0.4242, -0.4242, -0.4242, -0.4242, -0.4242, -0.4242, -0.4242,\n",
              "         -0.4242, -0.4242, -0.4242, -0.4242, -0.4242, -0.4242, -0.4242, -0.4242,\n",
              "         -0.4242, -0.4242, -0.4242, -0.4242, -0.4242, -0.4242, -0.4242, -0.4242,\n",
              "         -0.4242, -0.4242, -0.4242, -0.4242],\n",
              "        [-0.4242, -0.4242, -0.4242, -0.4242, -0.4242, -0.4242, -0.4242, -0.4242,\n",
              "         -0.4242, -0.4242, -0.4242, -0.4242, -0.4242, -0.4242, -0.4242, -0.4242,\n",
              "         -0.4242, -0.4242, -0.4242, -0.4242, -0.4242, -0.4242, -0.4242, -0.4242,\n",
              "         -0.4242, -0.4242, -0.4242, -0.4242]])"
            ]
          },
          "metadata": {},
          "execution_count": 61
        }
      ]
    },
    {
      "cell_type": "code",
      "source": [
        "# Show the image\n",
        "plt.imshow(test_data[1976][0].reshape(28,28))\n"
      ],
      "metadata": {
        "colab": {
          "base_uri": "https://localhost:8080/",
          "height": 447
        },
        "id": "fUF94CEJBq50",
        "outputId": "39936d1c-f83d-49d3-95da-36c52a54e09c"
      },
      "execution_count": 62,
      "outputs": [
        {
          "output_type": "execute_result",
          "data": {
            "text/plain": [
              "<matplotlib.image.AxesImage at 0x794266b9df70>"
            ]
          },
          "metadata": {},
          "execution_count": 62
        },
        {
          "output_type": "display_data",
          "data": {
            "text/plain": [
              "<Figure size 640x480 with 1 Axes>"
            ],
            "image/png": "[encoded data removed]"
          },
          "metadata": {}
        }
      ]
    },
    {
      "cell_type": "code",
      "source": [
        "# Pass the image through our model\n",
        "we_model.eval()\n",
        "with torch.no_grad():\n",
        "  # batch_size of 1, 1 color channel, 28x28 image\n",
        "  new_prediction = we_model(test_data[1976][0].view(1,1,28,28))\n"
      ],
      "metadata": {
        "id": "6w3kutQxB2xD"
      },
      "execution_count": 63,
      "outputs": []
    },
    {
      "cell_type": "code",
      "source": [
        "# Check the new prediction..get probabilities\n",
        "new_prediction"
      ],
      "metadata": {
        "colab": {
          "base_uri": "https://localhost:8080/"
        },
        "id": "UNF4J9uiCl5j",
        "outputId": "4572a8c2-a5d3-4bbb-e87d-58d70ceccd5c"
      },
      "execution_count": 64,
      "outputs": [
        {
          "output_type": "execute_result",
          "data": {
            "text/plain": [
              "tensor([[-3.6276,  2.3373, -2.6343,  9.4116, -7.3343,  3.1283, -4.5179, -2.1593,\n",
              "         -2.6807,  0.5801]])"
            ]
          },
          "metadata": {},
          "execution_count": 64
        }
      ]
    },
    {
      "cell_type": "code",
      "source": [
        "new_prediction.argmax()"
      ],
      "metadata": {
        "colab": {
          "base_uri": "https://localhost:8080/"
        },
        "id": "Wpb4IyFSCz62",
        "outputId": "b2c97b68-850a-4198-b2fd-d2994cc616e0"
      },
      "execution_count": 65,
      "outputs": [
        {
          "output_type": "execute_result",
          "data": {
            "text/plain": [
              "tensor(3)"
            ]
          },
          "metadata": {},
          "execution_count": 65
        }
      ]
    },
    {
      "cell_type": "code",
      "source": [],
      "metadata": {
        "id": "Euv4V59pC9NL"
      },
      "execution_count": null,
      "outputs": []
    }
  ],
  "metadata": {
    "accelerator": "TPU",
    "colab": {
      "gpuType": "V5E1",
      "provenance": [],
      "authorship_tag": "ABX9TyNAHzlNjdFtAu5BM2zf51Dh",
      "include_colab_link": true
    },
    "kernelspec": {
      "display_name": "Python 3",
      "name": "python3"
    },
    "language_info": {
      "name": "python"
    }
  },
  "nbformat": 4,
  "nbformat_minor": 0
}