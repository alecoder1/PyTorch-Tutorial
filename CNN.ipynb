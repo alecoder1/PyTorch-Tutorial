{
  "nbformat": 4,
  "nbformat_minor": 0,
  "metadata": {
    "colab": {
      "provenance": [],
      "gpuType": "T4",
      "authorship_tag": "ABX9TyOkKC/vxOQ2MxLRnKXU6LqM",
      "include_colab_link": true
    },
    "kernelspec": {
      "name": "python3",
      "display_name": "Python 3"
    },
    "language_info": {
      "name": "python"
    },
    "accelerator": "GPU"
  },
  "cells": [
    {
      "cell_type": "markdown",
      "metadata": {
        "id": "view-in-github",
        "colab_type": "text"
      },
      "source": [
        "<a href=\"https://colab.research.google.com/github/alecoder1/PyTorch-Tutorial/blob/main/CNN.ipynb\" target=\"_parent\"><img src=\"https://colab.research.google.com/assets/colab-badge.svg\" alt=\"Open In Colab\"/></a>"
      ]
    },
    {
      "cell_type": "code",
      "source": [
        "import torch\n",
        "import torch.nn as nn\n",
        "import torch.nn.functional as F\n",
        "from torch.utils.data import DataLoader\n",
        "from torchvision import datasets, transforms\n",
        "from torchvision.utils import make_grid\n",
        "\n",
        "import numpy as np\n",
        "import pandas as pd\n",
        "from sklearn.metrics import confusion_matrix\n",
        "import matplotlib.pyplot as plt\n",
        "%matplotlib inline\n"
      ],
      "metadata": {
        "id": "lI2DZG66k51v"
      },
      "execution_count": 37,
      "outputs": []
    },
    {
      "cell_type": "code",
      "source": [
        "# Convert MNIST image files into a Tensor of 4-Dimensions (# of images, Height, Width, Color channel)\n",
        "transform = transforms.ToTensor()"
      ],
      "metadata": {
        "id": "aKjjSJepmDdD"
      },
      "execution_count": 38,
      "outputs": []
    },
    {
      "cell_type": "code",
      "source": [
        "# Train Data\n",
        "train_data = datasets.MNIST(root='/cnn_data',train=True, download=True, transform=transform)"
      ],
      "metadata": {
        "id": "QpW4ciL5modK"
      },
      "execution_count": 39,
      "outputs": []
    },
    {
      "cell_type": "code",
      "source": [
        "# Test Data\n",
        "test_data = datasets.MNIST(root='/cnn_data',train=False, download=True, transform=transform)"
      ],
      "metadata": {
        "id": "wExUk9XKncTc"
      },
      "execution_count": 40,
      "outputs": []
    },
    {
      "cell_type": "code",
      "source": [
        "train_data"
      ],
      "metadata": {
        "colab": {
          "base_uri": "https://localhost:8080/"
        },
        "id": "aeWo7ph3numv",
        "outputId": "f4fbb9fb-0210-4ac0-96e4-b2be657ed8cf"
      },
      "execution_count": 41,
      "outputs": [
        {
          "output_type": "execute_result",
          "data": {
            "text/plain": [
              "Dataset MNIST\n",
              "    Number of datapoints: 60000\n",
              "    Root location: /cnn_data\n",
              "    Split: Train\n",
              "    StandardTransform\n",
              "Transform: ToTensor()"
            ]
          },
          "metadata": {},
          "execution_count": 41
        }
      ]
    },
    {
      "cell_type": "code",
      "source": [
        "test_data"
      ],
      "metadata": {
        "colab": {
          "base_uri": "https://localhost:8080/"
        },
        "id": "HaB-S0PYnxxy",
        "outputId": "b2de1304-a2b1-4931-991d-c974d49cf6cc"
      },
      "execution_count": 42,
      "outputs": [
        {
          "output_type": "execute_result",
          "data": {
            "text/plain": [
              "Dataset MNIST\n",
              "    Number of datapoints: 10000\n",
              "    Root location: /cnn_data\n",
              "    Split: Test\n",
              "    StandardTransform\n",
              "Transform: ToTensor()"
            ]
          },
          "metadata": {},
          "execution_count": 42
        }
      ]
    },
    {
      "cell_type": "code",
      "source": [
        "pwd"
      ],
      "metadata": {
        "colab": {
          "base_uri": "https://localhost:8080/",
          "height": 35
        },
        "id": "_MSbp_4kn3Fv",
        "outputId": "dfd084ac-1d89-4b8a-c961-61f92da20196"
      },
      "execution_count": 43,
      "outputs": [
        {
          "output_type": "execute_result",
          "data": {
            "text/plain": [
              "'/content'"
            ],
            "application/vnd.google.colaboratory.intrinsic+json": {
              "type": "string"
            }
          },
          "metadata": {},
          "execution_count": 43
        }
      ]
    },
    {
      "cell_type": "code",
      "source": [
        "ls\n"
      ],
      "metadata": {
        "colab": {
          "base_uri": "https://localhost:8080/"
        },
        "id": "0ct_pCOnn4gl",
        "outputId": "eb2b2f66-6349-4721-d832-da92d5136796"
      },
      "execution_count": 44,
      "outputs": [
        {
          "output_type": "stream",
          "name": "stdout",
          "text": [
            "\u001b[0m\u001b[01;34msample_data\u001b[0m/\n"
          ]
        }
      ]
    },
    {
      "cell_type": "code",
      "source": [
        "cd ../"
      ],
      "metadata": {
        "colab": {
          "base_uri": "https://localhost:8080/"
        },
        "id": "4IPMk8Qnn5WO",
        "outputId": "d05bd90b-d09b-41c8-a57b-2a1b3a7c0182"
      },
      "execution_count": 45,
      "outputs": [
        {
          "output_type": "stream",
          "name": "stdout",
          "text": [
            "/\n"
          ]
        }
      ]
    },
    {
      "cell_type": "code",
      "source": [
        "pwd"
      ],
      "metadata": {
        "colab": {
          "base_uri": "https://localhost:8080/",
          "height": 35
        },
        "id": "DydQr-H7n-VC",
        "outputId": "c4fc97b8-97ad-4485-92d6-e16e6973e671"
      },
      "execution_count": 46,
      "outputs": [
        {
          "output_type": "execute_result",
          "data": {
            "text/plain": [
              "'/'"
            ],
            "application/vnd.google.colaboratory.intrinsic+json": {
              "type": "string"
            }
          },
          "metadata": {},
          "execution_count": 46
        }
      ]
    },
    {
      "cell_type": "code",
      "source": [
        "ls"
      ],
      "metadata": {
        "colab": {
          "base_uri": "https://localhost:8080/"
        },
        "id": "6hD6N6Sin_wV",
        "outputId": "dab50e82-522d-482b-908e-feb3d5141906"
      },
      "execution_count": 47,
      "outputs": [
        {
          "output_type": "stream",
          "name": "stdout",
          "text": [
            "\u001b[0m\u001b[01;36mbin\u001b[0m@                        \u001b[01;34mhome\u001b[0m/    NGC-DL-CONTAINER-LICENSE  \u001b[01;34msrv\u001b[0m/\n",
            "\u001b[01;34mboot\u001b[0m/                       \u001b[01;34mkaggle\u001b[0m/  \u001b[01;34mopt\u001b[0m/                      \u001b[01;34msys\u001b[0m/\n",
            "\u001b[01;34mcnn_data\u001b[0m/                   \u001b[01;36mlib\u001b[0m@     \u001b[01;34mproc\u001b[0m/                     \u001b[30;42mtmp\u001b[0m/\n",
            "\u001b[01;34mcontent\u001b[0m/                    \u001b[01;36mlib32\u001b[0m@   \u001b[01;34mpython-apt\u001b[0m/               \u001b[01;34mtools\u001b[0m/\n",
            "cuda-keyring_1.1-1_all.deb  \u001b[01;36mlib64\u001b[0m@   \u001b[01;32mpython-apt.tar.xz\u001b[0m*        \u001b[01;34musr\u001b[0m/\n",
            "\u001b[01;34mdatalab\u001b[0m/                    \u001b[01;36mlibx32\u001b[0m@  \u001b[01;34mroot\u001b[0m/                     \u001b[01;34mvar\u001b[0m/\n",
            "\u001b[01;34mdev\u001b[0m/                        \u001b[01;34mmedia\u001b[0m/   \u001b[01;34mrun\u001b[0m/\n",
            "\u001b[01;34metc\u001b[0m/                        \u001b[01;34mmnt\u001b[0m/     \u001b[01;36msbin\u001b[0m@\n"
          ]
        }
      ]
    },
    {
      "cell_type": "code",
      "source": [
        "cd cnn_data"
      ],
      "metadata": {
        "colab": {
          "base_uri": "https://localhost:8080/"
        },
        "id": "5ZzZuZyYoAvx",
        "outputId": "1eab6611-5724-46ef-b4b7-36a2e0506271"
      },
      "execution_count": 48,
      "outputs": [
        {
          "output_type": "stream",
          "name": "stdout",
          "text": [
            "/cnn_data\n"
          ]
        }
      ]
    },
    {
      "cell_type": "code",
      "source": [
        "ls"
      ],
      "metadata": {
        "colab": {
          "base_uri": "https://localhost:8080/"
        },
        "id": "0p_Oph9yoFaq",
        "outputId": "2f9a203c-c72c-42e5-e5c9-8dbc25a78e9e"
      },
      "execution_count": 49,
      "outputs": [
        {
          "output_type": "stream",
          "name": "stdout",
          "text": [
            "\u001b[0m\u001b[01;34mMNIST\u001b[0m/\n"
          ]
        }
      ]
    },
    {
      "cell_type": "code",
      "source": [
        "cd ../"
      ],
      "metadata": {
        "colab": {
          "base_uri": "https://localhost:8080/"
        },
        "id": "zFssVSbyoGyR",
        "outputId": "6e444f59-f9a9-4071-fade-54219ef081de"
      },
      "execution_count": 50,
      "outputs": [
        {
          "output_type": "stream",
          "name": "stdout",
          "text": [
            "/\n"
          ]
        }
      ]
    },
    {
      "cell_type": "code",
      "source": [
        "ls"
      ],
      "metadata": {
        "colab": {
          "base_uri": "https://localhost:8080/"
        },
        "id": "PiWlG_DwoLW-",
        "outputId": "986236be-62fa-40d9-c096-eb24238d740b"
      },
      "execution_count": 51,
      "outputs": [
        {
          "output_type": "stream",
          "name": "stdout",
          "text": [
            "\u001b[0m\u001b[01;36mbin\u001b[0m@                        \u001b[01;34mhome\u001b[0m/    NGC-DL-CONTAINER-LICENSE  \u001b[01;34msrv\u001b[0m/\n",
            "\u001b[01;34mboot\u001b[0m/                       \u001b[01;34mkaggle\u001b[0m/  \u001b[01;34mopt\u001b[0m/                      \u001b[01;34msys\u001b[0m/\n",
            "\u001b[01;34mcnn_data\u001b[0m/                   \u001b[01;36mlib\u001b[0m@     \u001b[01;34mproc\u001b[0m/                     \u001b[30;42mtmp\u001b[0m/\n",
            "\u001b[01;34mcontent\u001b[0m/                    \u001b[01;36mlib32\u001b[0m@   \u001b[01;34mpython-apt\u001b[0m/               \u001b[01;34mtools\u001b[0m/\n",
            "cuda-keyring_1.1-1_all.deb  \u001b[01;36mlib64\u001b[0m@   \u001b[01;32mpython-apt.tar.xz\u001b[0m*        \u001b[01;34musr\u001b[0m/\n",
            "\u001b[01;34mdatalab\u001b[0m/                    \u001b[01;36mlibx32\u001b[0m@  \u001b[01;34mroot\u001b[0m/                     \u001b[01;34mvar\u001b[0m/\n",
            "\u001b[01;34mdev\u001b[0m/                        \u001b[01;34mmedia\u001b[0m/   \u001b[01;34mrun\u001b[0m/\n",
            "\u001b[01;34metc\u001b[0m/                        \u001b[01;34mmnt\u001b[0m/     \u001b[01;36msbin\u001b[0m@\n"
          ]
        }
      ]
    },
    {
      "cell_type": "code",
      "source": [
        "cd content/"
      ],
      "metadata": {
        "colab": {
          "base_uri": "https://localhost:8080/"
        },
        "id": "kjqlRaiBoMvQ",
        "outputId": "73a9f08b-4275-4f45-93b1-1f585d7e2d93"
      },
      "execution_count": 52,
      "outputs": [
        {
          "output_type": "stream",
          "name": "stdout",
          "text": [
            "/content\n"
          ]
        }
      ]
    },
    {
      "cell_type": "code",
      "source": [
        "pwd"
      ],
      "metadata": {
        "colab": {
          "base_uri": "https://localhost:8080/",
          "height": 35
        },
        "id": "2uQua3ZdoQtO",
        "outputId": "a851d594-a4ac-4b46-9dc2-bb26edb2dba9"
      },
      "execution_count": 53,
      "outputs": [
        {
          "output_type": "execute_result",
          "data": {
            "text/plain": [
              "'/content'"
            ],
            "application/vnd.google.colaboratory.intrinsic+json": {
              "type": "string"
            }
          },
          "metadata": {},
          "execution_count": 53
        }
      ]
    },
    {
      "cell_type": "code",
      "source": [
        "# create a small batch size for images..let's say 10\n",
        "train_loader = DataLoader(train_data, batch_size=10, shuffle=True)\n",
        "test_loader = DataLoader(test_data, batch_size=10, shuffle=False)"
      ],
      "metadata": {
        "id": "75KGI3Y3oSt-"
      },
      "execution_count": 54,
      "outputs": []
    },
    {
      "cell_type": "code",
      "source": [
        "# Define our CNN Model\n",
        "# Describe convolutional layer and what its doing(2 convolutional layers)\n",
        "conv1 = nn.Conv2d(1, 6, 3, 1)\n",
        "conv2 = nn.Conv2d(6, 16, 3, 1)"
      ],
      "metadata": {
        "id": "aP7hBc41AVwG"
      },
      "execution_count": 55,
      "outputs": []
    },
    {
      "cell_type": "code",
      "source": [
        "# Grab 1 MNIST record/ image\n",
        "for i, (X_train, y_train) in enumerate(train_data):\n",
        "  break"
      ],
      "metadata": {
        "id": "N_R-kIGDBzAs"
      },
      "execution_count": 56,
      "outputs": []
    },
    {
      "cell_type": "code",
      "source": [
        "X_train.shape"
      ],
      "metadata": {
        "colab": {
          "base_uri": "https://localhost:8080/"
        },
        "id": "MZPMwgURCIDM",
        "outputId": "3d6603b2-783b-4464-c08a-8b8d4aa8104f"
      },
      "execution_count": 57,
      "outputs": [
        {
          "output_type": "execute_result",
          "data": {
            "text/plain": [
              "torch.Size([1, 28, 28])"
            ]
          },
          "metadata": {},
          "execution_count": 57
        }
      ]
    },
    {
      "cell_type": "code",
      "source": [
        "x = X_train.view(1,1,28,28)"
      ],
      "metadata": {
        "id": "BcLzvwXVCNMl"
      },
      "execution_count": 58,
      "outputs": []
    },
    {
      "cell_type": "code",
      "source": [
        "# Perform our first convolution\n",
        "x = F.relu(conv1(x))      # Rectified Linear Unit for our activation function"
      ],
      "metadata": {
        "id": "j7eCPh7YCgh4"
      },
      "execution_count": 59,
      "outputs": []
    },
    {
      "cell_type": "code",
      "source": [
        "# 1 single image, 6 is the filters we asked for\n",
        "# 26x26\n",
        "x.shape"
      ],
      "metadata": {
        "colab": {
          "base_uri": "https://localhost:8080/"
        },
        "id": "LG4HnfPADI7j",
        "outputId": "81c8c78a-a6ae-4ca2-eeca-58dc5c8e1ba7"
      },
      "execution_count": 60,
      "outputs": [
        {
          "output_type": "execute_result",
          "data": {
            "text/plain": [
              "torch.Size([1, 6, 26, 26])"
            ]
          },
          "metadata": {},
          "execution_count": 60
        }
      ]
    },
    {
      "cell_type": "code",
      "source": [
        "# pass through the pooling layer\n",
        "x = F.max_pool2d(x, 2, 2)  # kernel of 2 and stride of 2"
      ],
      "metadata": {
        "id": "IyeAHjZEDJu9"
      },
      "execution_count": 61,
      "outputs": []
    },
    {
      "cell_type": "code",
      "source": [
        "x.shape # 26 / 2 = 13"
      ],
      "metadata": {
        "colab": {
          "base_uri": "https://localhost:8080/"
        },
        "id": "_EQBSaM4E3FT",
        "outputId": "690ac184-9381-4c06-efd7-c5cb3b00b115"
      },
      "execution_count": 62,
      "outputs": [
        {
          "output_type": "execute_result",
          "data": {
            "text/plain": [
              "torch.Size([1, 6, 13, 13])"
            ]
          },
          "metadata": {},
          "execution_count": 62
        }
      ]
    },
    {
      "cell_type": "code",
      "source": [
        "# Do our second convolutional Layer\n",
        "x = F.relu(conv2(x))"
      ],
      "metadata": {
        "id": "GPqxb_sQE5HB"
      },
      "execution_count": 63,
      "outputs": []
    },
    {
      "cell_type": "code",
      "source": [
        "x.shape     # again we didn't set padding so we lose 2 pixels around the outside of the image"
      ],
      "metadata": {
        "colab": {
          "base_uri": "https://localhost:8080/"
        },
        "id": "8KfmsNyfQHfn",
        "outputId": "f6a49ab8-040f-4d72-fcbb-1ec23c11d1aa"
      },
      "execution_count": 64,
      "outputs": [
        {
          "output_type": "execute_result",
          "data": {
            "text/plain": [
              "torch.Size([1, 16, 11, 11])"
            ]
          },
          "metadata": {},
          "execution_count": 64
        }
      ]
    },
    {
      "cell_type": "code",
      "source": [
        "# pooling layer\n",
        "x = F.max_pool2d(x, 2,2)"
      ],
      "metadata": {
        "id": "m34HDm2OQLpg"
      },
      "execution_count": 65,
      "outputs": []
    },
    {
      "cell_type": "code",
      "source": [
        "x.shape  # 11 / 2 = 5.5 but we have to round down because you can't invent data to round up"
      ],
      "metadata": {
        "colab": {
          "base_uri": "https://localhost:8080/"
        },
        "id": "7TM5Zmp0TDYX",
        "outputId": "f4d05ae1-7d7f-4b19-ee74-4229ccbb2155"
      },
      "execution_count": 66,
      "outputs": [
        {
          "output_type": "execute_result",
          "data": {
            "text/plain": [
              "torch.Size([1, 16, 5, 5])"
            ]
          },
          "metadata": {},
          "execution_count": 66
        }
      ]
    },
    {
      "cell_type": "code",
      "source": [
        "((28- 2) / 2 - 2) / 2"
      ],
      "metadata": {
        "colab": {
          "base_uri": "https://localhost:8080/"
        },
        "id": "HfTufMdqTEmS",
        "outputId": "e90bb562-51b0-47ef-c256-7acc99e3f199"
      },
      "execution_count": 68,
      "outputs": [
        {
          "output_type": "execute_result",
          "data": {
            "text/plain": [
              "5.5"
            ]
          },
          "metadata": {},
          "execution_count": 68
        }
      ]
    },
    {
      "cell_type": "code",
      "source": [],
      "metadata": {
        "id": "7FBTmSNIT6r-"
      },
      "execution_count": null,
      "outputs": []
    }
  ]
}